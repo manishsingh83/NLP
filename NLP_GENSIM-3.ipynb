{
 "cells": [
  {
   "cell_type": "markdown",
   "id": "361f33c7",
   "metadata": {},
   "source": [
    "# GENSIM"
   ]
  },
  {
   "cell_type": "raw",
   "id": "6acbf787",
   "metadata": {},
   "source": [
    " What is Gensim?\n",
    "    * Gensim= 'Generate Similar' is apopular open source natural language processing (NLP) library used for unsupervised \n",
    "    topic modeling.\n",
    "    * Let's understand important terms and its meaning\n",
    "   Document: some text\n",
    "   Corpus:  a collection of documents.\n",
    "   Vector:  a mathematically convenient vectors from one representation to another.\n",
    "   Model:  an algorithm for transforming vectors from one representation to another. \n",
    "    "
   ]
  },
  {
   "cell_type": "code",
   "execution_count": 1,
   "id": "04c34138",
   "metadata": {},
   "outputs": [],
   "source": [
    "# DOCUMENT: some text \n",
    "text_corpus= [\"Human machine interface for lab for abc computer applications\",\n",
    "           \"A survey of user opinion of computer system response time\",\n",
    "           \"The EPS user interface management system\",\n",
    "           \"system and human system engineering testing of EPS\",\n",
    "           \"Relation of user perceived response time to error measurement\",\n",
    "           \"The generation of random binary unordered trees\",\n",
    "           \"The interaction graph of paths in trees\",\n",
    "            \"Graph minors IV widths of trees and well quasi ordering\",\n",
    "             \"Graph minors a survey\"]"
   ]
  },
  {
   "cell_type": "code",
   "execution_count": 2,
   "id": "a5c3297d",
   "metadata": {},
   "outputs": [],
   "source": [
    "# VECTOR: a mathematically convenient representation of a document\n",
    "\n",
    "import pprint"
   ]
  },
  {
   "cell_type": "code",
   "execution_count": 3,
   "id": "9f92b551",
   "metadata": {},
   "outputs": [
    {
     "data": {
      "text/plain": [
       "[['human', 'machine', 'interface', 'lab', 'abc', 'computer', 'applications'],\n",
       " ['survey', 'user', 'opinion', 'computer', 'system', 'response', 'time'],\n",
       " ['eps', 'user', 'interface', 'management', 'system'],\n",
       " ['system', 'human', 'system', 'engineering', 'testing', 'eps'],\n",
       " ['relation', 'user', 'perceived', 'response', 'time', 'error', 'measurement'],\n",
       " ['generation', 'random', 'binary', 'unordered', 'trees'],\n",
       " ['interaction', 'graph', 'paths', 'trees'],\n",
       " ['graph', 'minors', 'iv', 'widths', 'trees', 'well', 'quasi', 'ordering'],\n",
       " ['graph', 'minors', 'survey']]"
      ]
     },
     "execution_count": 3,
     "metadata": {},
     "output_type": "execute_result"
    }
   ],
   "source": [
    "# create a set of frequent words\n",
    "\n",
    "stoplist= set('for a of the and to in'.split(' '))\n",
    "\n",
    "# Lowercase each document, split it by whitespace and filter out stopwords\n",
    "texts= [[word for word in document.lower().split() if word not in stoplist]\n",
    "        for document in text_corpus]\n",
    "texts"
   ]
  },
  {
   "cell_type": "code",
   "execution_count": 13,
   "id": "c3ff8540",
   "metadata": {
    "scrolled": true
   },
   "outputs": [
    {
     "name": "stdout",
     "output_type": "stream",
     "text": [
      "defaultdict(<class 'int'>, {'human': 2, 'machine': 1, 'interface': 2, 'lab': 1, 'abc': 1, 'computer': 2, 'applications': 1, 'survey': 2, 'user': 3, 'opinion': 1, 'system': 4, 'response': 2, 'time': 2, 'eps': 2, 'management': 1, 'engineering': 1, 'testing': 1, 'relation': 1, 'perceived': 1, 'error': 1, 'measurement': 1, 'generation': 1, 'random': 1, 'binary': 1, 'unordered': 1, 'trees': 3, 'interaction': 1, 'graph': 3, 'paths': 1, 'minors': 2, 'iv': 1, 'widths': 1, 'well': 1, 'quasi': 1, 'ordering': 1})\n"
     ]
    }
   ],
   "source": [
    "# count word frequencies\n",
    "from collections import defaultdict\n",
    "\n",
    "frequency= defaultdict(int)\n",
    "\n",
    "for text in texts:\n",
    "    for token in text:\n",
    "        frequency[token] += 1\n",
    "print(frequency)"
   ]
  },
  {
   "cell_type": "code",
   "execution_count": 14,
   "id": "a93068eb",
   "metadata": {},
   "outputs": [
    {
     "data": {
      "text/plain": [
       "[['human', 'interface', 'computer'],\n",
       " ['survey', 'user', 'computer', 'system', 'response', 'time'],\n",
       " ['eps', 'user', 'interface', 'system'],\n",
       " ['system', 'human', 'system', 'eps'],\n",
       " ['user', 'response', 'time'],\n",
       " ['trees'],\n",
       " ['graph', 'trees'],\n",
       " ['graph', 'minors', 'trees'],\n",
       " ['graph', 'minors', 'survey']]"
      ]
     },
     "execution_count": 14,
     "metadata": {},
     "output_type": "execute_result"
    }
   ],
   "source": [
    "# Only keep words that appear more than once\n",
    "processed_corpus=  [[token for token in text if frequency[token] > 1] for text in texts]\n",
    "processed_corpus"
   ]
  },
  {
   "cell_type": "code",
   "execution_count": 15,
   "id": "d23f0e2b",
   "metadata": {},
   "outputs": [
    {
     "name": "stdout",
     "output_type": "stream",
     "text": [
      "Dictionary(12 unique tokens: ['computer', 'human', 'interface', 'response', 'survey']...)\n"
     ]
    }
   ],
   "source": [
    "# Creating dictionaries, which helps during Topic modelling\n",
    "from gensim import corpora\n",
    "\n",
    "dictionary= corpora.Dictionary(processed_corpus)\n",
    "print(dictionary)"
   ]
  },
  {
   "cell_type": "code",
   "execution_count": 16,
   "id": "4d42529a",
   "metadata": {},
   "outputs": [
    {
     "name": "stdout",
     "output_type": "stream",
     "text": [
      "{'computer': 0,\n",
      " 'eps': 8,\n",
      " 'graph': 10,\n",
      " 'human': 1,\n",
      " 'interface': 2,\n",
      " 'minors': 11,\n",
      " 'response': 3,\n",
      " 'survey': 4,\n",
      " 'system': 5,\n",
      " 'time': 6,\n",
      " 'trees': 9,\n",
      " 'user': 7}\n"
     ]
    }
   ],
   "source": [
    "# Vectorise representation\n",
    "pprint.pprint(dictionary.token2id)"
   ]
  },
  {
   "cell_type": "markdown",
   "id": "135ff0d1",
   "metadata": {},
   "source": [
    "\n",
    "MODEL : an algorithm for transforming vectors from one representation to another"
   ]
  },
  {
   "cell_type": "code",
   "execution_count": 18,
   "id": "f75cec29",
   "metadata": {},
   "outputs": [
    {
     "name": "stdout",
     "output_type": "stream",
     "text": [
      "[(0, 2), (1, 1), (2, 1)]\n",
      "[(0, 2), (1, 1)]\n"
     ]
    }
   ],
   "source": [
    "# Always make a practise of testing small texts when trying something new\n",
    "#  in each tuple below 1st occurance is ID and 2nd ocurance is count\n",
    "\n",
    "new_doc= \"Human computer interface computer\"\n",
    "new_doc2 = \"Human computer Interaction computer\"\n",
    "new_vec= dictionary.doc2bow(new_doc.lower().split())\n",
    "print(new_vec)\n",
    "new_vec2= dictionary.doc2bow(new_doc2.lower().split())\n",
    "print(new_vec2)  # Interaction word noit in corpus so didn't display"
   ]
  },
  {
   "cell_type": "code",
   "execution_count": 19,
   "id": "fe058960",
   "metadata": {},
   "outputs": [
    {
     "name": "stdout",
     "output_type": "stream",
     "text": [
      "[[(0, 1), (1, 1), (2, 1)],\n",
      " [(0, 1), (3, 1), (4, 1), (5, 1), (6, 1), (7, 1)],\n",
      " [(2, 1), (5, 1), (7, 1), (8, 1)],\n",
      " [(1, 1), (5, 2), (8, 1)],\n",
      " [(3, 1), (6, 1), (7, 1)],\n",
      " [(9, 1)],\n",
      " [(9, 1), (10, 1)],\n",
      " [(9, 1), (10, 1), (11, 1)],\n",
      " [(4, 1), (10, 1), (11, 1)]]\n"
     ]
    }
   ],
   "source": [
    "# \n",
    "bow_corpus = [dictionary.doc2bow(text) for text in processed_corpus]\n",
    "pprint.pprint(bow_corpus)"
   ]
  },
  {
   "cell_type": "code",
   "execution_count": 16,
   "id": "641a8312",
   "metadata": {},
   "outputs": [
    {
     "name": "stdout",
     "output_type": "stream",
     "text": [
      "[(5, 0.5898341626740045), (11, 0.8075244024440723)]\n"
     ]
    }
   ],
   "source": [
    "#\n",
    "from gensim import models\n",
    "\n",
    "# train the model\n",
    "tfidf= models.TfidfModel(bow_corpus)\n",
    "\n",
    "#\n",
    "words= 'system minors'.lower().split()  ## transform the  \"system minors\" string\n",
    "\n",
    "print(tfidf[dictionary.doc2bow(words)])"
   ]
  },
  {
   "cell_type": "code",
   "execution_count": 25,
   "id": "9189014a",
   "metadata": {},
   "outputs": [
    {
     "name": "stdout",
     "output_type": "stream",
     "text": [
      "{'abc': 0, 'applications': 1, 'computer': 2, 'for': 3, 'human': 4, 'interface': 5, 'lab': 6, 'machine': 7, 'of': 8, 'opinion': 9, 'response': 10, 'survey': 11, 'system': 12, 'time': 13, 'user': 14}\n"
     ]
    }
   ],
   "source": [
    "\n",
    "# \n",
    "import gensim\n",
    "from gensim import corpora\n",
    "from pprint import pprint\n",
    "from gensim.utils import simple_preprocess\n",
    "\n",
    "import os\n",
    "dict_text= corpora.Dictionary(simple_preprocess(line) for line in open(r'sample.txt') )\n",
    "print(dict_text.token2id)"
   ]
  },
  {
   "cell_type": "code",
   "execution_count": 22,
   "id": "59b5952d",
   "metadata": {},
   "outputs": [],
   "source": [
    "tex= \"Human machine interface for lab for abc computer applications, A survey of user opinion of computer system response time\"\n",
    "\n",
    "f= open('sample.txt', 'w')\n",
    "f.write(tex)\n",
    "f.close()"
   ]
  },
  {
   "cell_type": "code",
   "execution_count": null,
   "id": "5cb0f1ed",
   "metadata": {},
   "outputs": [],
   "source": []
  },
  {
   "cell_type": "code",
   "execution_count": null,
   "id": "a27ddc66",
   "metadata": {},
   "outputs": [],
   "source": []
  }
 ],
 "metadata": {
  "kernelspec": {
   "display_name": "Python 3 (ipykernel)",
   "language": "python",
   "name": "python3"
  },
  "language_info": {
   "codemirror_mode": {
    "name": "ipython",
    "version": 3
   },
   "file_extension": ".py",
   "mimetype": "text/x-python",
   "name": "python",
   "nbconvert_exporter": "python",
   "pygments_lexer": "ipython3",
   "version": "3.9.12"
  }
 },
 "nbformat": 4,
 "nbformat_minor": 5
}
