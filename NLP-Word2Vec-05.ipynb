{
 "cells": [
  {
   "cell_type": "raw",
   "id": "ae1958fa",
   "metadata": {},
   "source": [
    "# OCCURENCE-MATRIX\n",
    "The term-occurence matrix context matrix (or simply the occurennce matrix) where each row is a term and each column represents an occurence context (such as a tweet, a book, a document, etc)\n",
    "occurence matrix is also called term-document matrix since its rows & columns represent terms and document/occurence context respectively.\n",
    "Term-document matrics (or occrence context matrics) are commonly used in tasks such as information retrieval. Two documents having similar words will ahve similar vectors, where the similarity between vectors can be computed using a standard measure such as the dot product. Thus you can use such representations in task where, for example, you want to extract documents similar to a given document from a large corpus."
   ]
  },
  {
   "cell_type": "code",
   "execution_count": null,
   "id": "fd9e4b47",
   "metadata": {},
   "outputs": [],
   "source": []
  },
  {
   "cell_type": "markdown",
   "id": "f4b1bbc8",
   "metadata": {},
   "source": [
    "# LSA_python Handson Exercise"
   ]
  },
  {
   "cell_type": "code",
   "execution_count": 1,
   "id": "02714f6e",
   "metadata": {},
   "outputs": [],
   "source": [
    "import nltk\n",
    "\n",
    "from nltk.corpus import brown"
   ]
  },
  {
   "cell_type": "code",
   "execution_count": 2,
   "id": "4d740a16",
   "metadata": {},
   "outputs": [
    {
     "data": {
      "text/plain": [
       "['The', 'Fulton', 'County', 'Grand', 'Jury', 'said', ...]"
      ]
     },
     "execution_count": 2,
     "metadata": {},
     "output_type": "execute_result"
    }
   ],
   "source": [
    "brown.words(categories= 'news')"
   ]
  },
  {
   "cell_type": "code",
   "execution_count": 3,
   "id": "1b1cb1fb",
   "metadata": {},
   "outputs": [],
   "source": [
    "from sklearn.feature_extraction.text import TfidfVectorizer"
   ]
  },
  {
   "cell_type": "code",
   "execution_count": null,
   "id": "5918da6c",
   "metadata": {},
   "outputs": [],
   "source": [
    "# Read the data from the brown corpus, # \n",
    "# data = ' '.join(brown.words()[:10000])"
   ]
  },
  {
   "cell_type": "code",
   "execution_count": 2,
   "id": "8317dc5d",
   "metadata": {},
   "outputs": [
    {
     "data": {
      "text/plain": [
       "[['Seven', 'continent', 'planet'],\n",
       " ['Five', 'ocean', 'planet'],\n",
       " ['Aisa', 'largest', 'continent'],\n",
       " ['Pacific', 'ocean', 'largest'],\n",
       " ['Ocean', 'saline', 'water']]"
      ]
     },
     "execution_count": 2,
     "metadata": {},
     "output_type": "execute_result"
    }
   ],
   "source": [
    "# FOR EXAMPLE\n",
    "TextCorpus= ['Seven continent planet',\n",
    "            'Five ocean planet',\n",
    "            'Aisa largest continent',\n",
    "            'Pacific ocean largest',\n",
    "            'Ocean saline water']\n",
    "tokens = [sent.split() for sent in TextCorpus]\n",
    "tokens"
   ]
  },
  {
   "cell_type": "code",
   "execution_count": 11,
   "id": "1b102262",
   "metadata": {},
   "outputs": [],
   "source": [
    "transformer = TfidfVectorizer()\n",
    "tfidf = transformer.fit_transform(TextCorpus)"
   ]
  },
  {
   "cell_type": "code",
   "execution_count": 12,
   "id": "2414be99",
   "metadata": {},
   "outputs": [
    {
     "name": "stdout",
     "output_type": "stream",
     "text": [
      "  (0, 6)\t0.5317722537280788\n",
      "  (0, 1)\t0.5317722537280788\n",
      "  (0, 8)\t0.6591180018251055\n",
      "  (1, 4)\t0.46220770413113277\n",
      "  (1, 2)\t0.6901592662889633\n",
      "  (1, 6)\t0.5568161504458247\n",
      "  (2, 3)\t0.5317722537280788\n",
      "  (2, 0)\t0.6591180018251055\n",
      "  (2, 1)\t0.5317722537280788\n",
      "  (3, 5)\t0.6901592662889633\n",
      "  (3, 3)\t0.5568161504458247\n",
      "  (3, 4)\t0.46220770413113277\n",
      "  (4, 9)\t0.6390704413963749\n",
      "  (4, 7)\t0.6390704413963749\n",
      "  (4, 4)\t0.42799292268317357\n"
     ]
    }
   ],
   "source": [
    "print(tfidf)\n",
    "# (document number, term number)"
   ]
  },
  {
   "cell_type": "code",
   "execution_count": 13,
   "id": "ae373c4f",
   "metadata": {},
   "outputs": [
    {
     "data": {
      "text/plain": [
       "array([[ 5.69995606e-01, -5.21026572e-01, -4.81700519e-01],\n",
       "       [ 6.29788097e-01,  2.47716942e-01, -5.41216825e-01],\n",
       "       [ 5.69995606e-01, -5.21026572e-01,  4.81700519e-01],\n",
       "       [ 6.29788097e-01,  2.47716942e-01,  5.41216825e-01],\n",
       "       [ 4.08516626e-01,  6.90173499e-01, -6.18144453e-16]])"
      ]
     },
     "execution_count": 13,
     "metadata": {},
     "output_type": "execute_result"
    }
   ],
   "source": [
    "from sklearn.decomposition import TruncatedSVD\n",
    "svd = TruncatedSVD(n_components = 3)\n",
    "lsa = svd.fit_transform(tfidf)\n",
    "\n",
    "lsa  #  these are the lower dimension representation in numeric form (LSA)"
   ]
  },
  {
   "cell_type": "markdown",
   "id": "0540c9b1",
   "metadata": {},
   "source": [
    "# Merits and Demerits of LSA\n",
    "LSA is widely used in processing large sets of documents for various purpose such as document-cluastering and classification \n",
    "(in lower dimension space), comparing the similarity between documents (eg. recommending similar books to what a user has liked),finding relations between terms(such as synonym)etc.\n",
    "\n",
    "The resulting dimension are not interpretable (the physical disadvantage of any matrix factorisation based  technique such PCA).\n",
    "Also, LSA cannot deal with issues such as ploysemy. For eg. we mentioned \"Java\" has three senses (coffee name, island name, programming-language), and the representaion\n",
    "of the term in the lower dimensional space will represent some sort of an 'average meaning' of the term rather than \n",
    "three different meanings"
   ]
  },
  {
   "cell_type": "code",
   "execution_count": null,
   "id": "e3edd0fe",
   "metadata": {},
   "outputs": [],
   "source": []
  },
  {
   "cell_type": "markdown",
   "id": "968e2b17",
   "metadata": {},
   "source": [
    "# Exploring_ Word2Vec Handson Part 1"
   ]
  },
  {
   "cell_type": "code",
   "execution_count": 1,
   "id": "07bcc028",
   "metadata": {},
   "outputs": [],
   "source": [
    "import numpy as np\n",
    "import matplotlib.pyplot as plt\n",
    "import os"
   ]
  },
  {
   "cell_type": "code",
   "execution_count": 2,
   "id": "df2bb916",
   "metadata": {},
   "outputs": [],
   "source": [
    "import nltk\n",
    "from gensim.models import word2vec\n",
    "from gensim.models.word2vec import Word2Vec"
   ]
  },
  {
   "cell_type": "code",
   "execution_count": 3,
   "id": "cdc91df0",
   "metadata": {},
   "outputs": [
    {
     "data": {
      "text/plain": [
       "[['I', 'like', 'Datatrained'],\n",
       " ['Datatrained', 'has', 'a', 'good', 'ML', 'programm']]"
      ]
     },
     "execution_count": 3,
     "metadata": {},
     "output_type": "execute_result"
    }
   ],
   "source": [
    "# CREATING OUR SENTENCES TO TRAIN THE WORD VECTORS    # EXAMPLE\n",
    "TextCorpus = ['I like Datatrained',\n",
    "             'Datatrained has a good ML programm',\n",
    "             'Datatrained has a good faculty',\n",
    "             'chidri is that good faculty',\n",
    "             'I like ML']\n",
    "\n",
    "text_tokens = [sent.split() for sent in TextCorpus]\n",
    "text_tokens[:2]"
   ]
  },
  {
   "cell_type": "code",
   "execution_count": 92,
   "id": "7e6fd32d",
   "metadata": {},
   "outputs": [],
   "source": [
    "# TRAINING THE WORD VECTORS\n",
    "model_0 = Word2Vec(text_tokens,vector_size= 10, min_count= 1) # default= vector_size=100, min_count=5"
   ]
  },
  {
   "cell_type": "code",
   "execution_count": 93,
   "id": "af8b6aaa",
   "metadata": {},
   "outputs": [
    {
     "data": {
      "text/plain": [
       "(['good',\n",
       "  'Datatrained',\n",
       "  'faculty',\n",
       "  'ML',\n",
       "  'a',\n",
       "  'has',\n",
       "  'like',\n",
       "  'I',\n",
       "  'that',\n",
       "  'is',\n",
       "  'chidri',\n",
       "  'programm'],\n",
       " 12)"
      ]
     },
     "execution_count": 93,
     "metadata": {},
     "output_type": "execute_result"
    }
   ],
   "source": [
    "model_0.wv.index_to_key, len(model_0.wv)"
   ]
  },
  {
   "cell_type": "code",
   "execution_count": 82,
   "id": "092dc90a",
   "metadata": {},
   "outputs": [
    {
     "data": {
      "text/plain": [
       "(8, 10)"
      ]
     },
     "execution_count": 82,
     "metadata": {},
     "output_type": "execute_result"
    }
   ],
   "source": [
    "#model_0.wv.get_vector('like')\n",
    "#model_0.min_count\n",
    "model_0.wv.get_normed_vectors().shape"
   ]
  },
  {
   "cell_type": "code",
   "execution_count": 99,
   "id": "3a71702e",
   "metadata": {},
   "outputs": [
    {
     "data": {
      "text/plain": [
       "array([-0.07512312, -0.00930133,  0.09539046, -0.07319878, -0.02333996,\n",
       "       -0.01937929,  0.08078222, -0.05931472,  0.00045167, -0.04754196],\n",
       "      dtype=float32)"
      ]
     },
     "execution_count": 99,
     "metadata": {},
     "output_type": "execute_result"
    }
   ],
   "source": [
    "model_0.wv['ML']"
   ]
  },
  {
   "cell_type": "code",
   "execution_count": 55,
   "id": "1ab02e10",
   "metadata": {},
   "outputs": [
    {
     "data": {
      "text/plain": [
       "10"
      ]
     },
     "execution_count": 55,
     "metadata": {},
     "output_type": "execute_result"
    }
   ],
   "source": [
    "model_0.vector_size"
   ]
  },
  {
   "cell_type": "code",
   "execution_count": 185,
   "id": "02c49355",
   "metadata": {},
   "outputs": [],
   "source": [
    "wvr = np.zeros((5,6,10), dtype='float32')\n",
    "\n",
    "r = 1\n",
    "for i in range(len(text_tokens)):\n",
    "    for n in range(len(text_tokens[i])) :\n",
    "        if text_tokens[i][n] in model_0.wv:\n",
    "            #print(text_tokens[i][n])\n",
    "            r += 1\n",
    "            wvr[i][n]= model_0.wv[text_tokens[i][n]]\n"
   ]
  },
  {
   "cell_type": "code",
   "execution_count": 184,
   "id": "28d4622d",
   "metadata": {
    "scrolled": true
   },
   "outputs": [
    {
     "data": {
      "text/plain": [
       "array([[[ 0.05454334,  0.08345772, -0.01451886, -0.09209566,\n",
       "          0.04370099,  0.00571408,  0.07443479, -0.00814436,\n",
       "         -0.02638405, -0.08753934],\n",
       "        [-0.01577653,  0.00321372, -0.0414063 , -0.07682689,\n",
       "         -0.01508008,  0.02469795, -0.00888027,  0.05533662,\n",
       "         -0.02742977,  0.02260065],\n",
       "        [ 0.07380505, -0.01533471, -0.04536613,  0.06554051,\n",
       "         -0.0486016 , -0.01816018,  0.0287658 ,  0.00991874,\n",
       "         -0.08285215, -0.09448818],\n",
       "        [ 0.        ,  0.        ,  0.        ,  0.        ,\n",
       "          0.        ,  0.        ,  0.        ,  0.        ,\n",
       "          0.        ,  0.        ],\n",
       "        [ 0.        ,  0.        ,  0.        ,  0.        ,\n",
       "          0.        ,  0.        ,  0.        ,  0.        ,\n",
       "          0.        ,  0.        ],\n",
       "        [ 0.        ,  0.        ,  0.        ,  0.        ,\n",
       "          0.        ,  0.        ,  0.        ,  0.        ,\n",
       "          0.        ,  0.        ]],\n",
       "\n",
       "       [[ 0.07380505, -0.01533471, -0.04536613,  0.06554051,\n",
       "         -0.0486016 , -0.01816018,  0.0287658 ,  0.00991874,\n",
       "         -0.08285215, -0.09448818],\n",
       "        [-0.08157917,  0.04495798, -0.04137076,  0.00824536,\n",
       "          0.08498619, -0.04462177,  0.045175  , -0.0678696 ,\n",
       "         -0.03548489,  0.09398508],\n",
       "        [-0.0960355 ,  0.05007293, -0.08759586, -0.04391825,\n",
       "         -0.000351  , -0.00296181, -0.0766124 ,  0.09614743,\n",
       "          0.04982058,  0.09233143],\n",
       "        [-0.00536227,  0.00236431,  0.0510335 ,  0.09009273,\n",
       "         -0.0930295 , -0.07116809,  0.06458873,  0.08972988,\n",
       "         -0.05015428, -0.03763372],\n",
       "        [-0.07512312, -0.00930133,  0.09539046, -0.07319878,\n",
       "         -0.02333996, -0.01937929,  0.08078222, -0.05931472,\n",
       "          0.00045167, -0.04754196],\n",
       "        [-0.00410223, -0.08368949, -0.05600012,  0.07104538,\n",
       "          0.0335254 ,  0.0722567 ,  0.06800248,  0.07530741,\n",
       "         -0.03789154, -0.00561806]],\n",
       "\n",
       "       [[ 0.07380505, -0.01533471, -0.04536613,  0.06554051,\n",
       "         -0.0486016 , -0.01816018,  0.0287658 ,  0.00991874,\n",
       "         -0.08285215, -0.09448818],\n",
       "        [-0.08157917,  0.04495798, -0.04137076,  0.00824536,\n",
       "          0.08498619, -0.04462177,  0.045175  , -0.0678696 ,\n",
       "         -0.03548489,  0.09398508],\n",
       "        [-0.0960355 ,  0.05007293, -0.08759586, -0.04391825,\n",
       "         -0.000351  , -0.00296181, -0.0766124 ,  0.09614743,\n",
       "          0.04982058,  0.09233143],\n",
       "        [-0.00536227,  0.00236431,  0.0510335 ,  0.09009273,\n",
       "         -0.0930295 , -0.07116809,  0.06458873,  0.08972988,\n",
       "         -0.05015428, -0.03763372],\n",
       "        [ 0.07311387,  0.05070422,  0.06758402,  0.00762114,\n",
       "          0.06350861, -0.03405516, -0.00945637,  0.05768154,\n",
       "         -0.07521743, -0.03936685],\n",
       "        [ 0.        ,  0.        ,  0.        ,  0.        ,\n",
       "          0.        ,  0.        ,  0.        ,  0.        ,\n",
       "          0.        ,  0.        ]],\n",
       "\n",
       "       [[-0.08619167,  0.0366599 ,  0.05189353,  0.05742091,\n",
       "          0.07467145, -0.0616756 ,  0.01105378,  0.06047568,\n",
       "         -0.02840116, -0.0617349 ],\n",
       "        [ 0.01631476,  0.00189917,  0.03473637,  0.00217777,\n",
       "          0.09618826,  0.05060603, -0.0891739 , -0.0704156 ,\n",
       "          0.00901456,  0.06392534],\n",
       "        [-0.00856557,  0.02826563,  0.05401429,  0.07052656,\n",
       "         -0.05703121,  0.0185882 ,  0.06088864, -0.04798051,\n",
       "         -0.03107261,  0.0679763 ],\n",
       "        [-0.00536227,  0.00236431,  0.0510335 ,  0.09009273,\n",
       "         -0.0930295 , -0.07116809,  0.06458873,  0.08972988,\n",
       "         -0.05015428, -0.03763372],\n",
       "        [ 0.07311387,  0.05070422,  0.06758402,  0.00762114,\n",
       "          0.06350861, -0.03405516, -0.00945637,  0.05768154,\n",
       "         -0.07521743, -0.03936685],\n",
       "        [ 0.        ,  0.        ,  0.        ,  0.        ,\n",
       "          0.        ,  0.        ,  0.        ,  0.        ,\n",
       "          0.        ,  0.        ]],\n",
       "\n",
       "       [[ 0.05454334,  0.08345772, -0.01451886, -0.09209566,\n",
       "          0.04370099,  0.00571408,  0.07443479, -0.00814436,\n",
       "         -0.02638405, -0.08753934],\n",
       "        [-0.01577653,  0.00321372, -0.0414063 , -0.07682689,\n",
       "         -0.01508008,  0.02469795, -0.00888027,  0.05533662,\n",
       "         -0.02742977,  0.02260065],\n",
       "        [-0.07512312, -0.00930133,  0.09539046, -0.07319878,\n",
       "         -0.02333996, -0.01937929,  0.08078222, -0.05931472,\n",
       "          0.00045167, -0.04754196],\n",
       "        [ 0.        ,  0.        ,  0.        ,  0.        ,\n",
       "          0.        ,  0.        ,  0.        ,  0.        ,\n",
       "          0.        ,  0.        ],\n",
       "        [ 0.        ,  0.        ,  0.        ,  0.        ,\n",
       "          0.        ,  0.        ,  0.        ,  0.        ,\n",
       "          0.        ,  0.        ],\n",
       "        [ 0.        ,  0.        ,  0.        ,  0.        ,\n",
       "          0.        ,  0.        ,  0.        ,  0.        ,\n",
       "          0.        ,  0.        ]]], dtype=float32)"
      ]
     },
     "execution_count": 184,
     "metadata": {},
     "output_type": "execute_result"
    }
   ],
   "source": [
    "wvr"
   ]
  },
  {
   "cell_type": "code",
   "execution_count": null,
   "id": "7785128c",
   "metadata": {},
   "outputs": [],
   "source": []
  },
  {
   "cell_type": "code",
   "execution_count": 163,
   "id": "5fe49941",
   "metadata": {
    "collapsed": true
   },
   "outputs": [
    {
     "ename": "AttributeError",
     "evalue": "'numpy.ndarray' object has no attribute 'append'",
     "output_type": "error",
     "traceback": [
      "\u001b[1;31m---------------------------------------------------------------------------\u001b[0m",
      "\u001b[1;31mAttributeError\u001b[0m                            Traceback (most recent call last)",
      "Cell \u001b[1;32mIn[163], line 3\u001b[0m\n\u001b[0;32m      1\u001b[0m vect \u001b[38;5;241m=\u001b[39m np\u001b[38;5;241m.\u001b[39marray(())\n\u001b[0;32m      2\u001b[0m \u001b[38;5;28;01mfor\u001b[39;00m sent \u001b[38;5;129;01min\u001b[39;00m text_tokens[:\u001b[38;5;241m2\u001b[39m]:\n\u001b[1;32m----> 3\u001b[0m     \u001b[43mvect\u001b[49m\u001b[38;5;241;43m.\u001b[39;49m\u001b[43mappend\u001b[49m(np\u001b[38;5;241m.\u001b[39marray([model_0\u001b[38;5;241m.\u001b[39mwv[l] \u001b[38;5;28;01mfor\u001b[39;00m l \u001b[38;5;129;01min\u001b[39;00m sent \u001b[38;5;28;01mif\u001b[39;00m l \u001b[38;5;129;01min\u001b[39;00m model_0\u001b[38;5;241m.\u001b[39mwv ]), axis\u001b[38;5;241m=\u001b[39m\u001b[38;5;241m0\u001b[39m)\n",
      "\u001b[1;31mAttributeError\u001b[0m: 'numpy.ndarray' object has no attribute 'append'"
     ]
    }
   ],
   "source": [
    "vect = np.array(())\n",
    "for sent in text_tokens[:2]:\n",
    "    vect.append(np.array([model_0.wv[l] for l in sent if l in model_0.wv ]), axis=0)"
   ]
  },
  {
   "cell_type": "code",
   "execution_count": 153,
   "id": "63bd2deb",
   "metadata": {},
   "outputs": [
    {
     "data": {
      "text/plain": [
       "[array([ 0.03752396,  0.02377891, -0.03376376, -0.03446067, -0.00666023,\n",
       "         0.00408395,  0.03144011,  0.019037  , -0.04555532, -0.05314229],\n",
       "       dtype=float32),\n",
       " array([-0.03139954, -0.00182172, -0.01398482,  0.01963449, -0.00780174,\n",
       "        -0.01400574,  0.03511697,  0.02398652, -0.02601844,  0.00017243],\n",
       "       dtype=float32)]"
      ]
     },
     "execution_count": 153,
     "metadata": {},
     "output_type": "execute_result"
    }
   ],
   "source": [
    "vect_avg"
   ]
  },
  {
   "cell_type": "code",
   "execution_count": 105,
   "id": "1343901f",
   "metadata": {},
   "outputs": [
    {
     "data": {
      "text/plain": [
       "array([ 0.07380505, -0.01533471, -0.04536613,  0.06554051, -0.0486016 ,\n",
       "       -0.01816018,  0.0287658 ,  0.00991874, -0.08285215, -0.09448818],\n",
       "      dtype=float32)"
      ]
     },
     "execution_count": 105,
     "metadata": {},
     "output_type": "execute_result"
    }
   ],
   "source": [
    "model_0.wv[text_tokens[0][2]]"
   ]
  },
  {
   "cell_type": "code",
   "execution_count": null,
   "id": "5037a5b8",
   "metadata": {},
   "outputs": [],
   "source": []
  },
  {
   "cell_type": "code",
   "execution_count": null,
   "id": "effba267",
   "metadata": {},
   "outputs": [],
   "source": [
    "**************"
   ]
  },
  {
   "cell_type": "code",
   "execution_count": 93,
   "id": "33078b7d",
   "metadata": {},
   "outputs": [
    {
     "data": {
      "text/plain": [
       "array([ 0.03113786,  0.05770715, -0.05098698,  0.02809874, -0.02585673,\n",
       "        0.00515335,  0.05311637, -0.0278886 ,  0.02823438, -0.0424185 ,\n",
       "       -0.02217805,  0.05874068, -0.00986033,  0.00200857, -0.02587894,\n",
       "       -0.0480168 ], dtype=float32)"
      ]
     },
     "execution_count": 93,
     "metadata": {},
     "output_type": "execute_result"
    }
   ],
   "source": [
    "model_0.wv['ML']  # model.wv['ML','Datatrained']"
   ]
  },
  {
   "cell_type": "code",
   "execution_count": 18,
   "id": "c2cafd0b",
   "metadata": {},
   "outputs": [
    {
     "data": {
      "text/plain": [
       "array([[0., 0., 0., 0., 0., 0., 0., 0., 0., 0., 0., 0., 0., 0., 0., 0.],\n",
       "       [0., 0., 0., 0., 0., 0., 0., 0., 0., 0., 0., 0., 0., 0., 0., 0.],\n",
       "       [0., 0., 0., 0., 0., 0., 0., 0., 0., 0., 0., 0., 0., 0., 0., 0.]])"
      ]
     },
     "execution_count": 18,
     "metadata": {},
     "output_type": "execute_result"
    }
   ],
   "source": [
    "#np.zeros(model_0.wv['ML','I','like'].shape)"
   ]
  },
  {
   "cell_type": "code",
   "execution_count": 94,
   "id": "0cbb6992",
   "metadata": {},
   "outputs": [
    {
     "data": {
      "text/plain": [
       "[('Datatrained', 0.06734082847833633),\n",
       " ('has', -0.1342252492904663),\n",
       " ('I', -0.18593712151050568),\n",
       " ('good', -0.20494458079338074),\n",
       " ('ML', -0.26229214668273926)]"
      ]
     },
     "execution_count": 94,
     "metadata": {},
     "output_type": "execute_result"
    }
   ],
   "source": [
    "# SIMILARITY BETWEEN WORD VECTORS IS MEASURES USING COSINE SIMILARITY\n",
    "\n",
    "model_0.wv.most_similar('faculty',topn=5)"
   ]
  },
  {
   "cell_type": "markdown",
   "id": "e29b2434",
   "metadata": {},
   "source": [
    "# Exploring_ Word2Vec Part 2"
   ]
  },
  {
   "cell_type": "code",
   "execution_count": null,
   "id": "4865fd9e",
   "metadata": {},
   "outputs": [],
   "source": [
    "# TRAINING our WORD VECTORS on the TEXT8 CORPUS\n",
    "# Cleaned wikipedia text, compressed to 100MB\n",
    "\n",
    "# importing raw text file"
   ]
  },
  {
   "cell_type": "code",
   "execution_count": 84,
   "id": "8ccc3202",
   "metadata": {},
   "outputs": [],
   "source": [
    "sentences = word2vec.Text8Corpus('./text8')"
   ]
  },
  {
   "cell_type": "code",
   "execution_count": 85,
   "id": "f35c5f15",
   "metadata": {},
   "outputs": [
    {
     "data": {
      "text/plain": [
       "gensim.models.word2vec.Text8Corpus"
      ]
     },
     "execution_count": 85,
     "metadata": {},
     "output_type": "execute_result"
    }
   ],
   "source": [
    "type(sentences)"
   ]
  },
  {
   "cell_type": "code",
   "execution_count": 90,
   "id": "4f0875c6",
   "metadata": {},
   "outputs": [],
   "source": [
    "# Using all default parameters\n",
    "model= Word2Vec(sentences,vector_size=56,min_count=4)"
   ]
  },
  {
   "cell_type": "code",
   "execution_count": 101,
   "id": "7047be4e",
   "metadata": {},
   "outputs": [
    {
     "data": {
      "text/plain": [
       "[('humanity', 0.8291695713996887),\n",
       " ('pleasure', 0.8011971116065979),\n",
       " ('fear', 0.7925096750259399),\n",
       " ('desires', 0.774017870426178),\n",
       " ('goodness', 0.7682574987411499),\n",
       " ('dignity', 0.7634167671203613)]"
      ]
     },
     "execution_count": 101,
     "metadata": {},
     "output_type": "execute_result"
    }
   ],
   "source": [
    "model.wv.most_similar('happiness', topn=6)"
   ]
  },
  {
   "cell_type": "code",
   "execution_count": 102,
   "id": "43fe1998",
   "metadata": {},
   "outputs": [
    {
     "data": {
      "text/plain": [
       "[('prince', 0.7891899347305298),\n",
       " ('princess', 0.7794641852378845),\n",
       " ('king', 0.7665117979049683),\n",
       " ('elizabeth', 0.7593103051185608),\n",
       " ('consort', 0.7174058556556702)]"
      ]
     },
     "execution_count": 102,
     "metadata": {},
     "output_type": "execute_result"
    }
   ],
   "source": [
    "model.wv.most_similar('queen',topn=5)"
   ]
  },
  {
   "cell_type": "raw",
   "id": "15287347",
   "metadata": {},
   "source": [
    "Semantic regularities captured in word embeddings"
   ]
  },
  {
   "cell_type": "code",
   "execution_count": 104,
   "id": "0282d8fd",
   "metadata": {},
   "outputs": [
    {
     "data": {
      "text/plain": [
       "[('empress', 0.7260298728942871),\n",
       " ('son', 0.7250191569328308),\n",
       " ('emperor', 0.7248682975769043),\n",
       " ('queen', 0.7008768916130066),\n",
       " ('prince', 0.6997836828231812)]"
      ]
     },
     "execution_count": 104,
     "metadata": {},
     "output_type": "execute_result"
    }
   ],
   "source": [
    "model.wv.most_similar(positive=['woman','king'], negative=['man'], topn=5)"
   ]
  },
  {
   "cell_type": "code",
   "execution_count": 105,
   "id": "f3699fc7",
   "metadata": {},
   "outputs": [
    {
     "data": {
      "text/plain": [
       "[('heroine', 0.7601175308227539),\n",
       " ('narrator', 0.693372368812561),\n",
       " ('protagonist', 0.6735948324203491),\n",
       " ('villain', 0.672890841960907),\n",
       " ('idol', 0.6632981896400452)]"
      ]
     },
     "execution_count": 105,
     "metadata": {},
     "output_type": "execute_result"
    }
   ],
   "source": [
    "model.wv.most_similar(positive=['woman','hero'], negative=['man'], topn=5)"
   ]
  },
  {
   "cell_type": "code",
   "execution_count": 129,
   "id": "66975138",
   "metadata": {},
   "outputs": [],
   "source": [
    "# Visualizing these words vectors\n",
    "\n",
    "X = model.wv[model.wv.index_to_key]"
   ]
  },
  {
   "cell_type": "code",
   "execution_count": 140,
   "id": "79854eb8",
   "metadata": {},
   "outputs": [],
   "source": [
    "# we will use PCA to reduce and visualize in 2 dimensions\n",
    "\n",
    "from sklearn.decomposition import PCA\n",
    "pca = PCA(n_components= 2)\n",
    "result = pca.fit_transform(X)"
   ]
  },
  {
   "cell_type": "code",
   "execution_count": 145,
   "id": "df1de180",
   "metadata": {},
   "outputs": [],
   "source": [
    "# Randomly select 100 words\n",
    "import random\n",
    "#random.seed(22)\n",
    "\n",
    "ind = random.sample(range(0, len(X)), 100)\n",
    "result_random = result[ind]\n",
    "all_words = list(model.wv.index_to_key)\n",
    "words = [all_words[i] for i in ind]"
   ]
  },
  {
   "cell_type": "code",
   "execution_count": 146,
   "id": "5481b6b9",
   "metadata": {},
   "outputs": [
    {
     "data": {
      "image/png": "[encoded data removed]",
      "text/plain": [
       "<Figure size 1600x700 with 1 Axes>"
      ]
     },
     "metadata": {},
     "output_type": "display_data"
    }
   ],
   "source": [
    "plt.figure(figsize=(16,7))\n",
    "plt.scatter(result_random[:,0], result_random[:,1])\n",
    "for i, word in enumerate(words):\n",
    "    plt.annotate(word, xy=(result_random[i, 0], result_random[i, 1]))\n",
    "plt.show()"
   ]
  },
  {
   "cell_type": "code",
   "execution_count": 159,
   "id": "26d9adf5",
   "metadata": {},
   "outputs": [
    {
     "data": {
      "text/plain": [
       "['small', 'following', 'within', 'non', 'left', 'human', 'main', 'among']"
      ]
     },
     "execution_count": 159,
     "metadata": {},
     "output_type": "execute_result"
    }
   ],
   "source": [
    "words = list(model.wv.index_to_key)\n",
    "words[220:228]"
   ]
  },
  {
   "cell_type": "markdown",
   "id": "98ed85ae",
   "metadata": {},
   "source": [
    "# Exploring_ Word2Vec Part 3"
   ]
  },
  {
   "cell_type": "code",
   "execution_count": 160,
   "id": "b9848e79",
   "metadata": {},
   "outputs": [],
   "source": [
    "from nltk.corpus import brown, movie_reviews"
   ]
  },
  {
   "cell_type": "code",
   "execution_count": 163,
   "id": "5f1579bd",
   "metadata": {},
   "outputs": [],
   "source": [
    "model_brown = Word2Vec(brown.sents(), sg=1, vector_size=56)  # sg= skipgram\n",
    "model_movie = Word2Vec(movie_reviews.sents(), sg= 1, vector_size= 56, window= 4)"
   ]
  },
  {
   "cell_type": "code",
   "execution_count": 167,
   "id": "d7ae376c",
   "metadata": {},
   "outputs": [
    {
     "name": "stdout",
     "output_type": "stream",
     "text": [
      "[('profits', 0.7772126197814941), ('buying', 0.7464767694473267), ('payment', 0.74095219373703), ('payments', 0.720259428024292), ('cash', 0.7201445698738098)]\n"
     ]
    }
   ],
   "source": [
    "print(model.wv.most_similar('money', topn=5))"
   ]
  },
  {
   "cell_type": "code",
   "execution_count": 168,
   "id": "fd73e02e",
   "metadata": {},
   "outputs": [
    {
     "name": "stdout",
     "output_type": "stream",
     "text": [
      "[('job', 0.8569725155830383), ('care', 0.8484736680984497), ('risk', 0.8251261115074158), ('friendship', 0.8236513733863831), ('joy', 0.8170315623283386)]\n"
     ]
    }
   ],
   "source": [
    "print(model_brown.wv.most_similar('money', topn=5))"
   ]
  },
  {
   "cell_type": "code",
   "execution_count": 169,
   "id": "b33da1db",
   "metadata": {},
   "outputs": [
    {
     "name": "stdout",
     "output_type": "stream",
     "text": [
      "[('cash', 0.7731497287750244), ('risk', 0.7549981474876404), ('food', 0.7480956315994263), ('paying', 0.7387651205062866), ('ransom', 0.7269435524940491)]\n"
     ]
    }
   ],
   "source": [
    "print(model_movie.wv.most_similar('money', topn=5))"
   ]
  },
  {
   "cell_type": "code",
   "execution_count": null,
   "id": "93cfd7d8",
   "metadata": {},
   "outputs": [],
   "source": [
    "# these all models shown different result of most_similar word on same word"
   ]
  },
  {
   "cell_type": "code",
   "execution_count": null,
   "id": "5daf321f",
   "metadata": {},
   "outputs": [],
   "source": []
  },
  {
   "cell_type": "markdown",
   "id": "ec2b7fac",
   "metadata": {},
   "source": [
    "# EXAMPLE"
   ]
  },
  {
   "cell_type": "code",
   "execution_count": 155,
   "id": "b5e0113b",
   "metadata": {},
   "outputs": [
    {
     "data": {
      "text/plain": [
       "82296"
      ]
     },
     "execution_count": 155,
     "metadata": {},
     "output_type": "execute_result"
    }
   ],
   "source": [
    "#import random\n",
    "#random.choice(model.wv.index_to_key)\n",
    "len(model.wv.index_to_key)\n",
    "#model.wv.index_to_key"
   ]
  },
  {
   "cell_type": "code",
   "execution_count": 114,
   "id": "fc9193d9",
   "metadata": {},
   "outputs": [
    {
     "data": {
      "text/plain": [
       "82296"
      ]
     },
     "execution_count": 114,
     "metadata": {},
     "output_type": "execute_result"
    }
   ],
   "source": [
    "\n",
    "# model.wv.key_to_index\n",
    "# model.wv.index_to_key\n",
    "vocab_len = len(model.wv)  # get a vocabulary size\n",
    "vocab_len"
   ]
  },
  {
   "cell_type": "code",
   "execution_count": 126,
   "id": "36975621",
   "metadata": {},
   "outputs": [
    {
     "data": {
      "text/plain": [
       "8904"
      ]
     },
     "execution_count": 126,
     "metadata": {},
     "output_type": "execute_result"
    }
   ],
   "source": [
    "model.wv.get_vecattr('national','count')"
   ]
  },
  {
   "cell_type": "code",
   "execution_count": null,
   "id": "92f47b01",
   "metadata": {},
   "outputs": [],
   "source": [
    "rock_idx = model.wv.vocab[\"rock\"].index  # 🚫\n",
    "rock_cnt = model.wv.vocab[\"rock\"].count  # 🚫\n",
    "vocab_len = len(model.wv.vocab)  # 🚫\n",
    "\n",
    "rock_idx = model.wv.key_to_index[\"rock\"]   # 👍\n",
    "rock_cnt = model.wv.get_vecattr(\"rock\", \"count\")  # 👍\n",
    "vocab_len = len(model.wv)  # 👍\n"
   ]
  },
  {
   "cell_type": "code",
   "execution_count": null,
   "id": "39f7b15c",
   "metadata": {},
   "outputs": [],
   "source": [
    "#L2-normalized vectors are now computed dynamically, on request. The full numpy array of \"normalized vectors\" is no longer\n",
    "# stored in memory\n",
    "all_normed_vectors = model.wv.get_normed_vectors()  # still works but now creates a new array on each call!\n",
    "normed_vector = model.wv.vectors_norm[model.wv.vocab[\"rock\"].index]  # 🚫\n",
    "normed_vector = model.wv.get_vector(\"rock\", norm=True)  # 👍"
   ]
  },
  {
   "cell_type": "code",
   "execution_count": null,
   "id": "274e6ea4",
   "metadata": {},
   "outputs": [],
   "source": [
    "# 7. methods like most_similar(), wmdistance(), doesnt_match(), similarity(), & others moved to KeyedVectors\n",
    "# These methods moved from the full model (Word2Vec, Doc2Vec, FastText) object to its .wv subcomponent\n",
    "# (of type KeyedVectors) many releases ago:\n",
    "\n",
    "w2v_model.most_similar(word)  # 🚫\n",
    "w2v_model.most_similar_cosmul(word)  # 🚫\n",
    "w2v_model.wmdistance(wordlistA, wordlistB)  # 🚫\n",
    "w2v_model.similar_by_word(word)  # 🚫\n",
    "w2v_model.similar_by_vector(word)  # 🚫\n",
    "w2v_model.doesnt_match(wordlist)  # 🚫\n",
    "w2v_model.similarity(wordA, wordB)  # 🚫\n",
    "w2v_model.n_similarity(wordlistA, wordlistB)  # 🚫\n",
    "w2v_model.evaluate_word_pairs(wordpairs)  # 🚫\n",
    "w2v_model.accuracy(questions)  # 🚫\n",
    "w2v_model.log_accuracy(section)  # 🚫\n",
    "\n",
    "w2v_model.wv.most_similar(word)  # 👍\n",
    "w2v_model.wv.most_similar_cosmul(word)  # 👍\n",
    "w2v_model.wv.wmdistance(wordlistA, wordlistB)  # 👍\n",
    "w2v_model.wv.similar_by_word(word)  # 👍\n",
    "w2v_model.wv.similar_by_vector(word)  # 👍\n",
    "w2v_model.wv.doesnt_match(wordlist)  # 👍\n",
    "w2v_model.wv.similarity(wordA, wordB)  # 👍\n",
    "w2v_model.wv.n_similarity(wordlistA, wordlistB)  # 👍\n",
    "w2v_model.wv.evaluate_word_pairs(wordpairs)  # 👍\n",
    "w2v_model.wv.evaluate_word_analogies(questions)  # 👍\n",
    "w2v_model.wv.log_accuracy(section)  # 👍"
   ]
  },
  {
   "cell_type": "code",
   "execution_count": null,
   "id": "50f414c5",
   "metadata": {},
   "outputs": [],
   "source": []
  },
  {
   "cell_type": "code",
   "execution_count": 1,
   "id": "2a4cc9cd",
   "metadata": {},
   "outputs": [],
   "source": [
    "import wget"
   ]
  },
  {
   "cell_type": "code",
   "execution_count": 82,
   "id": "b0273d82",
   "metadata": {},
   "outputs": [
    {
     "name": "stdout",
     "output_type": "stream",
     "text": [
      "100% [........................................................................] 31344016 / 31344016"
     ]
    }
   ],
   "source": [
    "url= \"http://mattmahoney.net/dc/text8.zip\"\n",
    "file = wget.download(url)"
   ]
  },
  {
   "cell_type": "code",
   "execution_count": 4,
   "id": "7842978f",
   "metadata": {},
   "outputs": [
    {
     "name": "stdout",
     "output_type": "stream",
     "text": [
      "\r",
      "  0% [                                                                          ]       0 / 1195261\r",
      "  0% [                                                                          ]    8192 / 1195261\r",
      "  1% [.                                                                         ]   16384 / 1195261\r",
      "  2% [.                                                                         ]   24576 / 1195261\r",
      "  2% [..                                                                        ]   32768 / 1195261\r",
      "  3% [..                                                                        ]   40960 / 1195261\r",
      "  4% [...                                                                       ]   49152 / 1195261\r",
      "  4% [...                                                                       ]   57344 / 1195261\r",
      "  5% [....                                                                      ]   65536 / 1195261\r",
      "  6% [....                                                                      ]   73728 / 1195261\r",
      "  6% [.....                                                                     ]   81920 / 1195261\r",
      "  7% [.....                                                                     ]   90112 / 1195261\r",
      "  8% [......                                                                    ]   98304 / 1195261\r",
      "  8% [......                                                                    ]  106496 / 1195261\r",
      "  9% [.......                                                                   ]  114688 / 1195261\r",
      " 10% [.......                                                                   ]  122880 / 1195261\r",
      " 10% [........                                                                  ]  131072 / 1195261\r",
      " 11% [........                                                                  ]  139264 / 1195261\r",
      " 12% [.........                                                                 ]  147456 / 1195261\r",
      " 13% [.........                                                                 ]  155648 / 1195261\r",
      " 13% [..........                                                                ]  163840 / 1195261\r",
      " 14% [..........                                                                ]  172032 / 1195261\r",
      " 15% [...........                                                               ]  180224 / 1195261\r",
      " 15% [...........                                                               ]  188416 / 1195261\r",
      " 16% [............                                                              ]  196608 / 1195261\r",
      " 17% [............                                                              ]  204800 / 1195261\r",
      " 17% [.............                                                             ]  212992 / 1195261\r",
      " 18% [.............                                                             ]  221184 / 1195261\r",
      " 19% [..............                                                            ]  229376 / 1195261\r",
      " 19% [..............                                                            ]  237568 / 1195261\r",
      " 20% [...............                                                           ]  245760 / 1195261\r",
      " 21% [...............                                                           ]  253952 / 1195261\r",
      " 21% [................                                                          ]  262144 / 1195261\r",
      " 22% [................                                                          ]  270336 / 1195261\r",
      " 23% [.................                                                         ]  278528 / 1195261\r",
      " 23% [.................                                                         ]  286720 / 1195261\r",
      " 24% [..................                                                        ]  294912 / 1195261\r",
      " 25% [..................                                                        ]  303104 / 1195261\r",
      " 26% [...................                                                       ]  311296 / 1195261\r",
      " 26% [...................                                                       ]  319488 / 1195261\r",
      " 27% [....................                                                      ]  327680 / 1195261\r",
      " 28% [....................                                                      ]  335872 / 1195261\r",
      " 28% [.....................                                                     ]  344064 / 1195261\r",
      " 29% [.....................                                                     ]  352256 / 1195261\r",
      " 30% [......................                                                    ]  360448 / 1195261\r",
      " 30% [......................                                                    ]  368640 / 1195261\r",
      " 31% [.......................                                                   ]  376832 / 1195261\r",
      " 32% [.......................                                                   ]  385024 / 1195261\r",
      " 32% [........................                                                  ]  393216 / 1195261\r",
      " 33% [........................                                                  ]  401408 / 1195261\r",
      " 34% [.........................                                                 ]  409600 / 1195261\r",
      " 34% [.........................                                                 ]  417792 / 1195261\r",
      " 35% [..........................                                                ]  425984 / 1195261\r",
      " 36% [..........................                                                ]  434176 / 1195261\r",
      " 37% [...........................                                               ]  442368 / 1195261\r",
      " 37% [...........................                                               ]  450560 / 1195261\r",
      " 38% [............................                                              ]  458752 / 1195261\r",
      " 39% [............................                                              ]  466944 / 1195261\r",
      " 39% [.............................                                             ]  475136 / 1195261\r",
      " 40% [.............................                                             ]  483328 / 1195261\r",
      " 41% [..............................                                            ]  491520 / 1195261\r",
      " 41% [..............................                                            ]  499712 / 1195261\r",
      " 42% [...............................                                           ]  507904 / 1195261\r",
      " 43% [...............................                                           ]  516096 / 1195261\r",
      " 43% [................................                                          ]  524288 / 1195261\r",
      " 44% [................................                                          ]  532480 / 1195261\r",
      " 45% [.................................                                         ]  540672 / 1195261\r",
      " 45% [.................................                                         ]  548864 / 1195261\r",
      " 46% [..................................                                        ]  557056 / 1195261\r",
      " 47% [..................................                                        ]  565248 / 1195261\r",
      " 47% [...................................                                       ]  573440 / 1195261\r",
      " 48% [....................................                                      ]  581632 / 1195261\r",
      " 49% [....................................                                      ]  589824 / 1195261\r",
      " 50% [.....................................                                     ]  598016 / 1195261\r",
      " 50% [.....................................                                     ]  606208 / 1195261\r",
      " 51% [......................................                                    ]  614400 / 1195261\r",
      " 52% [......................................                                    ]  622592 / 1195261\r",
      " 52% [.......................................                                   ]  630784 / 1195261\r",
      " 53% [.......................................                                   ]  638976 / 1195261\r",
      " 54% [........................................                                  ]  647168 / 1195261\r",
      " 54% [........................................                                  ]  655360 / 1195261\r",
      " 55% [.........................................                                 ]  663552 / 1195261\r",
      " 56% [.........................................                                 ]  671744 / 1195261\r",
      " 56% [..........................................                                ]  679936 / 1195261\r",
      " 57% [..........................................                                ]  688128 / 1195261\r",
      " 58% [...........................................                               ]  696320 / 1195261\r",
      " 58% [...........................................                               ]  704512 / 1195261\r",
      " 59% [............................................                              ]  712704 / 1195261\r",
      " 60% [............................................                              ]  720896 / 1195261\r",
      " 60% [.............................................                             ]  729088 / 1195261\r",
      " 61% [.............................................                             ]  737280 / 1195261\r",
      " 62% [..............................................                            ]  745472 / 1195261\r",
      " 63% [..............................................                            ]  753664 / 1195261"
     ]
    },
    {
     "name": "stdout",
     "output_type": "stream",
     "text": [
      "\r",
      " 63% [...............................................                           ]  761856 / 1195261\r",
      " 64% [...............................................                           ]  770048 / 1195261\r",
      " 65% [................................................                          ]  778240 / 1195261\r",
      " 65% [................................................                          ]  786432 / 1195261\r",
      " 66% [.................................................                         ]  794624 / 1195261\r",
      " 67% [.................................................                         ]  802816 / 1195261\r",
      " 67% [..................................................                        ]  811008 / 1195261\r",
      " 68% [..................................................                        ]  819200 / 1195261\r",
      " 69% [...................................................                       ]  827392 / 1195261\r",
      " 69% [...................................................                       ]  835584 / 1195261\r",
      " 70% [....................................................                      ]  843776 / 1195261\r",
      " 71% [....................................................                      ]  851968 / 1195261\r",
      " 71% [.....................................................                     ]  860160 / 1195261\r",
      " 72% [.....................................................                     ]  868352 / 1195261\r",
      " 73% [......................................................                    ]  876544 / 1195261\r",
      " 74% [......................................................                    ]  884736 / 1195261\r",
      " 74% [.......................................................                   ]  892928 / 1195261\r",
      " 75% [.......................................................                   ]  901120 / 1195261\r",
      " 76% [........................................................                  ]  909312 / 1195261\r",
      " 76% [........................................................                  ]  917504 / 1195261\r",
      " 77% [.........................................................                 ]  925696 / 1195261\r",
      " 78% [.........................................................                 ]  933888 / 1195261\r",
      " 78% [..........................................................                ]  942080 / 1195261\r",
      " 79% [..........................................................                ]  950272 / 1195261\r",
      " 80% [...........................................................               ]  958464 / 1195261\r",
      " 80% [...........................................................               ]  966656 / 1195261\r",
      " 81% [............................................................              ]  974848 / 1195261\r",
      " 82% [............................................................              ]  983040 / 1195261\r",
      " 82% [.............................................................             ]  991232 / 1195261\r",
      " 83% [.............................................................             ]  999424 / 1195261\r",
      " 84% [..............................................................            ] 1007616 / 1195261\r",
      " 84% [..............................................................            ] 1015808 / 1195261\r",
      " 85% [...............................................................           ] 1024000 / 1195261\r",
      " 86% [...............................................................           ] 1032192 / 1195261\r",
      " 87% [................................................................          ] 1040384 / 1195261\r",
      " 87% [................................................................          ] 1048576 / 1195261\r",
      " 88% [.................................................................         ] 1056768 / 1195261\r",
      " 89% [.................................................................         ] 1064960 / 1195261\r",
      " 89% [..................................................................        ] 1073152 / 1195261\r",
      " 90% [..................................................................        ] 1081344 / 1195261\r",
      " 91% [...................................................................       ] 1089536 / 1195261\r",
      " 91% [...................................................................       ] 1097728 / 1195261\r",
      " 92% [....................................................................      ] 1105920 / 1195261\r",
      " 93% [....................................................................      ] 1114112 / 1195261\r",
      " 93% [.....................................................................     ] 1122304 / 1195261\r",
      " 94% [.....................................................................     ] 1130496 / 1195261\r",
      " 95% [......................................................................    ] 1138688 / 1195261\r",
      " 95% [.......................................................................   ] 1146880 / 1195261\r",
      " 96% [.......................................................................   ] 1155072 / 1195261\r",
      " 97% [........................................................................  ] 1163264 / 1195261\r",
      " 98% [........................................................................  ] 1171456 / 1195261\r",
      " 98% [......................................................................... ] 1179648 / 1195261\r",
      " 99% [......................................................................... ] 1187840 / 1195261\r",
      "100% [..........................................................................] 1195261 / 1195261"
     ]
    }
   ],
   "source": [
    "#url= \"https://nlp.stanford.edu/projects/glove/glove.6B.zip\"\n",
    "#file = wget.download(url)\n",
    "#url = 'https://raw.githubusercontent.com/Cynwell/Text-Level-GNN/main/r52-train-all-terms.txt'  # download\n",
    "#url = 'https://raw.githubusercontent.com/Cynwell/Text-Level-GNN/main/r8-train-all-terms.txt'  # download\n",
    "url = 'https://raw.githubusercontent.com/Cynwell/Text-Level-GNN/main/r8-test-all-terms.txt'\n",
    "file = wget.download(url)"
   ]
  },
  {
   "cell_type": "code",
   "execution_count": 171,
   "id": "e65740f1",
   "metadata": {},
   "outputs": [],
   "source": [
    "import zipfile   # UN\n",
    "zip_ref = zipfile.ZipFile(file, \"r\")\n",
    "zip_ref.extractall()\n",
    "zip_ref.close()"
   ]
  },
  {
   "cell_type": "code",
   "execution_count": null,
   "id": "ae505623",
   "metadata": {},
   "outputs": [],
   "source": []
  }
 ],
 "metadata": {
  "kernelspec": {
   "display_name": "Python 3 (ipykernel)",
   "language": "python",
   "name": "python3"
  },
  "language_info": {
   "codemirror_mode": {
    "name": "ipython",
    "version": 3
   },
   "file_extension": ".py",
   "mimetype": "text/x-python",
   "name": "python",
   "nbconvert_exporter": "python",
   "pygments_lexer": "ipython3",
   "version": "3.9.12"
  }
 },
 "nbformat": 4,
 "nbformat_minor": 5
}
