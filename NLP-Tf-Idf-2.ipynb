{
 "cells": [
  {
   "cell_type": "markdown",
   "id": "2e1a3a6a",
   "metadata": {},
   "source": [
    "\n",
    "# NLP-04 WORD EMBEDDING -1    ( Count Vectorizer = BOW, N-GRAM) "
   ]
  },
  {
   "cell_type": "raw",
   "id": "fc69e00b",
   "metadata": {},
   "source": [
    "WORD-EMBEDDING\n",
    "In natural language processing (NLP), word embedding is a term used for the representation of words for text analysis,\n",
    "typically in the form of a real-valued vector that encodes the meaning of the word such that the words that are closer\n",
    "in the vector space are expected to be similar in meaning.[1] Word embeddings can be obtained using a set of language\n",
    "modeling and feature learning techniques where words or phrases from the vocabulary are mapped to vectors of real numbers.\n"
   ]
  },
  {
   "cell_type": "raw",
   "id": "eaac4f6f",
   "metadata": {},
   "source": [
    "BOW \n",
    "Bow model is used  in NLP to represent the given text/sentences as a collection(bag) of words without giving any \n",
    " importance to grammar or the accurence order of the words. It keeps the account of frequency of the words in the text document  which can be used as features in many models"
   ]
  },
  {
   "cell_type": "code",
   "execution_count": null,
   "id": "1ff79a46",
   "metadata": {},
   "outputs": [],
   "source": [
    "# Let's understand with example=\n",
    "\n",
    "text= \"I went to have a cup of coffee but I ended up having taken lunch \"\n",
    "\n",
    "BOW= {I:2, went:1, to:1, have:1, a:1, cup:1, of:1, coffee:1, but:1, ended:1, up:1, having:1, taken:1, lunch:1}\n",
    "\n",
    "# in this text I is two times and all other words are only one times"
   ]
  },
  {
   "cell_type": "code",
   "execution_count": 3,
   "id": "31df6865",
   "metadata": {},
   "outputs": [],
   "source": [
    "# example= Bag of words\n",
    "\n",
    "from sklearn.feature_extraction.text import CountVectorizer\n",
    "from nltk.corpus import stopwords\n",
    "import pandas as pd\n",
    "import warnings\n",
    "warnings.filterwarnings('ignore')"
   ]
  },
  {
   "cell_type": "code",
   "execution_count": 15,
   "id": "2376f91c",
   "metadata": {},
   "outputs": [
    {
     "name": "stdout",
     "output_type": "stream",
     "text": [
      "['an', 'bag', 'example', 'is', 'of', 'this', 'words']\n"
     ]
    }
   ],
   "source": [
    "string= ['This is an example of bag of words ']\n",
    "vect= CountVectorizer()\n",
    "vect.fit_transform(string)\n",
    "print(vect.get_feature_names())"
   ]
  },
  {
   "cell_type": "code",
   "execution_count": 16,
   "id": "e8f0445c",
   "metadata": {},
   "outputs": [
    {
     "data": {
      "text/plain": [
       "{'this': 5, 'is': 3, 'an': 0, 'example': 2, 'of': 4, 'bag': 1, 'words': 6}"
      ]
     },
     "execution_count": 16,
     "metadata": {},
     "output_type": "execute_result"
    }
   ],
   "source": [
    "vect.vocabulary_"
   ]
  },
  {
   "cell_type": "code",
   "execution_count": 20,
   "id": "b86e4efa",
   "metadata": {},
   "outputs": [
    {
     "name": "stdout",
     "output_type": "stream",
     "text": [
      "[[0 0 0 2 1 0 1]]\n",
      "['an', 'bag', 'example', 'is', 'of', 'this', 'words']\n"
     ]
    }
   ],
   "source": [
    "vect1= CountVectorizer()\n",
    "\n",
    "vect1.fit(string)  # Trained on string\n",
    "string2 = [\" let understand is of words is\"]\n",
    "c_new = vect1.transform(string2)         # transform string2 according trained 'string' \n",
    "print(c_new.toarray())\n",
    "print(vect1.get_feature_names())\n"
   ]
  },
  {
   "cell_type": "code",
   "execution_count": null,
   "id": "763d3357",
   "metadata": {},
   "outputs": [],
   "source": [
    "# in 'string2' (is, of, words) these words are matching from 'string', is:2, of:1 , words:1 "
   ]
  },
  {
   "cell_type": "code",
   "execution_count": 23,
   "id": "2efa59be",
   "metadata": {},
   "outputs": [
    {
     "name": "stdout",
     "output_type": "stream",
     "text": [
      "['care', 'means', 'others', 'taking']\n",
      "{'taking': 3, 'care': 0, 'means': 1, 'others': 2}\n"
     ]
    }
   ],
   "source": [
    "# example. Bag of words with using stopwords\n",
    "\n",
    "stopword= stopwords.words('english')\n",
    "text= [\" Taking care of yourself means taking care of others too\"]\n",
    "vect= CountVectorizer(stop_words=stopword)\n",
    "vect.fit_transform(text)\n",
    "print(vect.get_feature_names())\n",
    "print(vect.vocabulary_)"
   ]
  },
  {
   "cell_type": "code",
   "execution_count": 24,
   "id": "1d29aaa9",
   "metadata": {},
   "outputs": [
    {
     "data": {
      "text/html": [
       "<div>\n",
       "<style scoped>\n",
       "    .dataframe tbody tr th:only-of-type {\n",
       "        vertical-align: middle;\n",
       "    }\n",
       "\n",
       "    .dataframe tbody tr th {\n",
       "        vertical-align: top;\n",
       "    }\n",
       "\n",
       "    .dataframe thead th {\n",
       "        text-align: right;\n",
       "    }\n",
       "</style>\n",
       "<table border=\"1\" class=\"dataframe\">\n",
       "  <thead>\n",
       "    <tr style=\"text-align: right;\">\n",
       "      <th></th>\n",
       "      <th>bring</th>\n",
       "      <th>care</th>\n",
       "      <th>complications</th>\n",
       "      <th>conscious</th>\n",
       "      <th>disease</th>\n",
       "      <th>lives</th>\n",
       "      <th>means</th>\n",
       "      <th>one</th>\n",
       "      <th>others</th>\n",
       "      <th>taking</th>\n",
       "    </tr>\n",
       "  </thead>\n",
       "  <tbody>\n",
       "    <tr>\n",
       "      <th>0</th>\n",
       "      <td>1</td>\n",
       "      <td>2</td>\n",
       "      <td>1</td>\n",
       "      <td>1</td>\n",
       "      <td>1</td>\n",
       "      <td>1</td>\n",
       "      <td>1</td>\n",
       "      <td>1</td>\n",
       "      <td>1</td>\n",
       "      <td>2</td>\n",
       "    </tr>\n",
       "  </tbody>\n",
       "</table>\n",
       "</div>"
      ],
      "text/plain": [
       "   bring  care  complications  conscious  disease  lives  means  one  others  \\\n",
       "0      1     2              1          1        1      1      1    1       1   \n",
       "\n",
       "   taking  \n",
       "0       2  "
      ]
     },
     "execution_count": 24,
     "metadata": {},
     "output_type": "execute_result"
    }
   ],
   "source": [
    "\n",
    "# using function\n",
    "def text_matrix(message, countvect):\n",
    "    doc= countvect.fit_transform(message)\n",
    "    return pd.DataFrame(doc.toarray(), columns=countvect.get_feature_names())\n",
    "\n",
    "message= ['''Taking care of yourself means taking care of others too. If each one is conscious about the complications this\n",
    "          disease can bring into their lives''']\n",
    "countvect= CountVectorizer(stop_words=stopword)\n",
    "text_matrix(message, countvect)"
   ]
  },
  {
   "cell_type": "markdown",
   "id": "551924dc",
   "metadata": {},
   "source": [
    "\n",
    "# N-GRAM"
   ]
  },
  {
   "cell_type": "code",
   "execution_count": 26,
   "id": "c1a7e1d3",
   "metadata": {},
   "outputs": [
    {
     "name": "stdout",
     "output_type": "stream",
     "text": [
      "['care', 'means', 'of', 'others', 'taking', 'too', 'yourself']\n",
      "['care of', 'means taking', 'of others', 'of yourself', 'others too', 'taking care', 'yourself means']\n",
      "\n",
      " ['care of others', 'care of yourself', 'means taking care', 'of others too', 'of yourself means', 'taking care of', 'yourself means taking']\n"
     ]
    }
   ],
   "source": [
    "text= [\" Taking care of yourself means taking care of others too\"]\n",
    "\n",
    "from sklearn.feature_extraction.text import CountVectorizer\n",
    "from nltk.tokenize import word_tokenize\n",
    "vect4 = CountVectorizer(ngram_range=(1,1))  #  uni-gram MODEL VECTORIZER\n",
    "vect4.fit_transform(text)\n",
    "print(vect4.get_feature_names())\n",
    "\n",
    "vect4 = CountVectorizer(ngram_range=(2,2))  #  bi-gram MODEL VECTORIZER\n",
    "vect4.fit_transform(text)\n",
    "print(vect4.get_feature_names())\n",
    "\n",
    "vect4 = CountVectorizer(ngram_range=(3,3))  #  tri-gram MODEL VECTORIZER\n",
    "vect4.fit_transform(text)\n",
    "print('\\n',vect4.get_feature_names())"
   ]
  },
  {
   "cell_type": "code",
   "execution_count": null,
   "id": "19e09d36",
   "metadata": {},
   "outputs": [],
   "source": []
  },
  {
   "cell_type": "markdown",
   "id": "802e3d77",
   "metadata": {},
   "source": [
    "\n",
    "# TF-IDF VECTORIZATION"
   ]
  },
  {
   "cell_type": "code",
   "execution_count": null,
   "id": "8cf0d1ed",
   "metadata": {},
   "outputs": [],
   "source": [
    "TF (Term frequency)\n",
    "IDF(Inverse document frequency)"
   ]
  },
  {
   "cell_type": "code",
   "execution_count": 1,
   "id": "4cd2aa18",
   "metadata": {},
   "outputs": [
    {
     "name": "stdout",
     "output_type": "stream",
     "text": [
      "[[0.20412415 0.20412415 0.20412415 0.20412415 0.20412415 0.20412415\n",
      "  0.20412415 0.20412415 0.20412415 0.20412415 0.20412415 0.20412415\n",
      "  0.20412415 0.20412415 0.20412415 0.20412415 0.20412415 0.40824829\n",
      "  0.20412415 0.20412415 0.20412415]]\n",
      "[[0.20412415 0.20412415 0.20412415 0.20412415 0.20412415 0.20412415\n",
      "  0.20412415 0.20412415 0.20412415 0.20412415 0.20412415 0.20412415\n",
      "  0.20412415 0.20412415 0.20412415 0.20412415 0.20412415 0.40824829\n",
      "  0.20412415 0.20412415 0.20412415]]\n"
     ]
    }
   ],
   "source": [
    "\n",
    "doc= ['Suppose we have a set of English text documents and wish to rank \\\n",
    "      them by which document is more relevant to the query']\n",
    "from sklearn.feature_extraction.text import TfidfVectorizer\n",
    "tfidf= TfidfVectorizer()\n",
    "tf = tfidf.fit_transform(doc)\n",
    "print(tf.toarray())\n",
    "print(tf.todense())"
   ]
  },
  {
   "cell_type": "code",
   "execution_count": 24,
   "id": "b4e826b3",
   "metadata": {
    "scrolled": true
   },
   "outputs": [],
   "source": []
  },
  {
   "cell_type": "code",
   "execution_count": 27,
   "id": "6b2c15d5",
   "metadata": {
    "scrolled": true
   },
   "outputs": [
    {
     "name": "stdout",
     "output_type": "stream",
     "text": [
      "['and', 'by', 'document', 'documents', 'english', 'have', 'is', 'more', 'of', 'query', 'rank', 'relevant', 'set', 'suppose', 'text', 'the', 'them', 'to', 'we', 'which', 'wish']\n"
     ]
    },
    {
     "data": {
      "text/html": [
       "<div>\n",
       "<style scoped>\n",
       "    .dataframe tbody tr th:only-of-type {\n",
       "        vertical-align: middle;\n",
       "    }\n",
       "\n",
       "    .dataframe tbody tr th {\n",
       "        vertical-align: top;\n",
       "    }\n",
       "\n",
       "    .dataframe thead th {\n",
       "        text-align: right;\n",
       "    }\n",
       "</style>\n",
       "<table border=\"1\" class=\"dataframe\">\n",
       "  <thead>\n",
       "    <tr style=\"text-align: right;\">\n",
       "      <th></th>\n",
       "      <th>0</th>\n",
       "    </tr>\n",
       "  </thead>\n",
       "  <tbody>\n",
       "    <tr>\n",
       "      <th>and</th>\n",
       "      <td>0.204124</td>\n",
       "    </tr>\n",
       "    <tr>\n",
       "      <th>by</th>\n",
       "      <td>0.204124</td>\n",
       "    </tr>\n",
       "    <tr>\n",
       "      <th>document</th>\n",
       "      <td>0.204124</td>\n",
       "    </tr>\n",
       "    <tr>\n",
       "      <th>documents</th>\n",
       "      <td>0.204124</td>\n",
       "    </tr>\n",
       "    <tr>\n",
       "      <th>english</th>\n",
       "      <td>0.204124</td>\n",
       "    </tr>\n",
       "    <tr>\n",
       "      <th>have</th>\n",
       "      <td>0.204124</td>\n",
       "    </tr>\n",
       "    <tr>\n",
       "      <th>is</th>\n",
       "      <td>0.204124</td>\n",
       "    </tr>\n",
       "    <tr>\n",
       "      <th>more</th>\n",
       "      <td>0.204124</td>\n",
       "    </tr>\n",
       "    <tr>\n",
       "      <th>of</th>\n",
       "      <td>0.204124</td>\n",
       "    </tr>\n",
       "    <tr>\n",
       "      <th>query</th>\n",
       "      <td>0.204124</td>\n",
       "    </tr>\n",
       "    <tr>\n",
       "      <th>rank</th>\n",
       "      <td>0.204124</td>\n",
       "    </tr>\n",
       "    <tr>\n",
       "      <th>relevant</th>\n",
       "      <td>0.204124</td>\n",
       "    </tr>\n",
       "    <tr>\n",
       "      <th>set</th>\n",
       "      <td>0.204124</td>\n",
       "    </tr>\n",
       "    <tr>\n",
       "      <th>suppose</th>\n",
       "      <td>0.204124</td>\n",
       "    </tr>\n",
       "    <tr>\n",
       "      <th>text</th>\n",
       "      <td>0.204124</td>\n",
       "    </tr>\n",
       "    <tr>\n",
       "      <th>the</th>\n",
       "      <td>0.204124</td>\n",
       "    </tr>\n",
       "    <tr>\n",
       "      <th>them</th>\n",
       "      <td>0.204124</td>\n",
       "    </tr>\n",
       "    <tr>\n",
       "      <th>to</th>\n",
       "      <td>0.408248</td>\n",
       "    </tr>\n",
       "    <tr>\n",
       "      <th>we</th>\n",
       "      <td>0.204124</td>\n",
       "    </tr>\n",
       "    <tr>\n",
       "      <th>which</th>\n",
       "      <td>0.204124</td>\n",
       "    </tr>\n",
       "    <tr>\n",
       "      <th>wish</th>\n",
       "      <td>0.204124</td>\n",
       "    </tr>\n",
       "  </tbody>\n",
       "</table>\n",
       "</div>"
      ],
      "text/plain": [
       "                  0\n",
       "and        0.204124\n",
       "by         0.204124\n",
       "document   0.204124\n",
       "documents  0.204124\n",
       "english    0.204124\n",
       "have       0.204124\n",
       "is         0.204124\n",
       "more       0.204124\n",
       "of         0.204124\n",
       "query      0.204124\n",
       "rank       0.204124\n",
       "relevant   0.204124\n",
       "set        0.204124\n",
       "suppose    0.204124\n",
       "text       0.204124\n",
       "the        0.204124\n",
       "them       0.204124\n",
       "to         0.408248\n",
       "we         0.204124\n",
       "which      0.204124\n",
       "wish       0.204124"
      ]
     },
     "execution_count": 27,
     "metadata": {},
     "output_type": "execute_result"
    }
   ],
   "source": [
    "print(tfidf.get_feature_names())\n",
    "import numpy as np\n",
    "x=tf.todense()\n",
    "x=np.transpose(x)\n",
    "\n",
    "pd.DataFrame(x, index=tfidf.get_feature_names())"
   ]
  },
  {
   "cell_type": "code",
   "execution_count": 35,
   "id": "b8030452",
   "metadata": {},
   "outputs": [
    {
     "name": "stdout",
     "output_type": "stream",
     "text": [
      "['and', 'by', 'document', 'documents', 'english', 'have', 'is', 'more', 'of', 'query', 'rank', 'relevant', 'set', 'suppose', 'text', 'the', 'them', 'to', 'we', 'which', 'wish']\n"
     ]
    },
    {
     "data": {
      "text/html": [
       "<div>\n",
       "<style scoped>\n",
       "    .dataframe tbody tr th:only-of-type {\n",
       "        vertical-align: middle;\n",
       "    }\n",
       "\n",
       "    .dataframe tbody tr th {\n",
       "        vertical-align: top;\n",
       "    }\n",
       "\n",
       "    .dataframe thead th {\n",
       "        text-align: right;\n",
       "    }\n",
       "</style>\n",
       "<table border=\"1\" class=\"dataframe\">\n",
       "  <thead>\n",
       "    <tr style=\"text-align: right;\">\n",
       "      <th></th>\n",
       "      <th>and</th>\n",
       "      <th>by</th>\n",
       "      <th>document</th>\n",
       "      <th>documents</th>\n",
       "      <th>english</th>\n",
       "      <th>have</th>\n",
       "      <th>is</th>\n",
       "      <th>more</th>\n",
       "      <th>of</th>\n",
       "      <th>query</th>\n",
       "      <th>...</th>\n",
       "      <th>relevant</th>\n",
       "      <th>set</th>\n",
       "      <th>suppose</th>\n",
       "      <th>text</th>\n",
       "      <th>the</th>\n",
       "      <th>them</th>\n",
       "      <th>to</th>\n",
       "      <th>we</th>\n",
       "      <th>which</th>\n",
       "      <th>wish</th>\n",
       "    </tr>\n",
       "  </thead>\n",
       "  <tbody>\n",
       "    <tr>\n",
       "      <th>0</th>\n",
       "      <td>0.204124</td>\n",
       "      <td>0.204124</td>\n",
       "      <td>0.204124</td>\n",
       "      <td>0.204124</td>\n",
       "      <td>0.204124</td>\n",
       "      <td>0.204124</td>\n",
       "      <td>0.204124</td>\n",
       "      <td>0.204124</td>\n",
       "      <td>0.204124</td>\n",
       "      <td>0.204124</td>\n",
       "      <td>...</td>\n",
       "      <td>0.204124</td>\n",
       "      <td>0.204124</td>\n",
       "      <td>0.204124</td>\n",
       "      <td>0.204124</td>\n",
       "      <td>0.204124</td>\n",
       "      <td>0.204124</td>\n",
       "      <td>0.408248</td>\n",
       "      <td>0.204124</td>\n",
       "      <td>0.204124</td>\n",
       "      <td>0.204124</td>\n",
       "    </tr>\n",
       "  </tbody>\n",
       "</table>\n",
       "<p>1 rows × 21 columns</p>\n",
       "</div>"
      ],
      "text/plain": [
       "        and        by  document  documents   english      have        is  \\\n",
       "0  0.204124  0.204124  0.204124   0.204124  0.204124  0.204124  0.204124   \n",
       "\n",
       "       more        of     query  ...  relevant       set   suppose      text  \\\n",
       "0  0.204124  0.204124  0.204124  ...  0.204124  0.204124  0.204124  0.204124   \n",
       "\n",
       "        the      them        to        we     which      wish  \n",
       "0  0.204124  0.204124  0.408248  0.204124  0.204124  0.204124  \n",
       "\n",
       "[1 rows x 21 columns]"
      ]
     },
     "execution_count": 35,
     "metadata": {},
     "output_type": "execute_result"
    }
   ],
   "source": [
    "print(tfidf.get_feature_names())\n",
    "pd.DataFrame(tf.todense(), columns=tfidf.get_feature_names())"
   ]
  },
  {
   "cell_type": "code",
   "execution_count": 41,
   "id": "40c960ba",
   "metadata": {},
   "outputs": [
    {
     "data": {
      "text/html": [
       "<div>\n",
       "<style scoped>\n",
       "    .dataframe tbody tr th:only-of-type {\n",
       "        vertical-align: middle;\n",
       "    }\n",
       "\n",
       "    .dataframe tbody tr th {\n",
       "        vertical-align: top;\n",
       "    }\n",
       "\n",
       "    .dataframe thead th {\n",
       "        text-align: right;\n",
       "    }\n",
       "</style>\n",
       "<table border=\"1\" class=\"dataframe\">\n",
       "  <thead>\n",
       "    <tr style=\"text-align: right;\">\n",
       "      <th></th>\n",
       "      <th>and</th>\n",
       "      <th>by</th>\n",
       "      <th>document</th>\n",
       "      <th>documents</th>\n",
       "      <th>english</th>\n",
       "      <th>have</th>\n",
       "      <th>is</th>\n",
       "      <th>more</th>\n",
       "      <th>of</th>\n",
       "      <th>query</th>\n",
       "      <th>...</th>\n",
       "      <th>relevant</th>\n",
       "      <th>set</th>\n",
       "      <th>suppose</th>\n",
       "      <th>text</th>\n",
       "      <th>the</th>\n",
       "      <th>them</th>\n",
       "      <th>to</th>\n",
       "      <th>we</th>\n",
       "      <th>which</th>\n",
       "      <th>wish</th>\n",
       "    </tr>\n",
       "  </thead>\n",
       "  <tbody>\n",
       "    <tr>\n",
       "      <th>0</th>\n",
       "      <td>0.204124</td>\n",
       "      <td>0.204124</td>\n",
       "      <td>0.204124</td>\n",
       "      <td>0.204124</td>\n",
       "      <td>0.204124</td>\n",
       "      <td>0.204124</td>\n",
       "      <td>0.204124</td>\n",
       "      <td>0.204124</td>\n",
       "      <td>0.204124</td>\n",
       "      <td>0.204124</td>\n",
       "      <td>...</td>\n",
       "      <td>0.204124</td>\n",
       "      <td>0.204124</td>\n",
       "      <td>0.204124</td>\n",
       "      <td>0.204124</td>\n",
       "      <td>0.204124</td>\n",
       "      <td>0.204124</td>\n",
       "      <td>0.408248</td>\n",
       "      <td>0.204124</td>\n",
       "      <td>0.204124</td>\n",
       "      <td>0.204124</td>\n",
       "    </tr>\n",
       "  </tbody>\n",
       "</table>\n",
       "<p>1 rows × 21 columns</p>\n",
       "</div>"
      ],
      "text/plain": [
       "        and        by  document  documents   english      have        is  \\\n",
       "0  0.204124  0.204124  0.204124   0.204124  0.204124  0.204124  0.204124   \n",
       "\n",
       "       more        of     query  ...  relevant       set   suppose      text  \\\n",
       "0  0.204124  0.204124  0.204124  ...  0.204124  0.204124  0.204124  0.204124   \n",
       "\n",
       "        the      them        to        we     which      wish  \n",
       "0  0.204124  0.204124  0.408248  0.204124  0.204124  0.204124  \n",
       "\n",
       "[1 rows x 21 columns]"
      ]
     },
     "execution_count": 41,
     "metadata": {},
     "output_type": "execute_result"
    }
   ],
   "source": [
    "\n",
    "# using function\n",
    "\n",
    "def tfidf_vect(text, model):\n",
    "    doc= model.fit_transform(text)\n",
    "    return pd.DataFrame(tf.todense(), columns=tfidf.get_feature_names())\n",
    "\n",
    "text2= ['The specificity of a term can be quantified as an inverse function of the number of documents in which it occurs']\n",
    "model= TfidfVectorizer()\n",
    "tfidf_vect(text2, model)"
   ]
  },
  {
   "cell_type": "code",
   "execution_count": 46,
   "id": "d66c775c",
   "metadata": {},
   "outputs": [
    {
     "name": "stdout",
     "output_type": "stream",
     "text": [
      "['document', 'in', 'occurs', 'of', 'term', 'that', 'the', 'weight']\n",
      "['in document', 'occurs in', 'of term', 'term that', 'that occurs', 'the weight', 'weight of']\n",
      "\n",
      "['in document', 'occurs in', 'of term', 'term that', 'that occurs', 'the weight', 'weight of']\n"
     ]
    }
   ],
   "source": [
    "# EXAMPLE  TF-IDF USING WITH N-GRAM\n",
    "\n",
    "string2= ['The weight of a term that occurs in a document']\n",
    "tfid= TfidfVectorizer(ngram_range=(1,1))\n",
    "tfid.fit_transform(string2)\n",
    "print(tfid.get_feature_names())\n",
    "\n",
    "tfid= TfidfVectorizer(ngram_range=(2,2))\n",
    "tfid.fit_transform(string2)\n",
    "print(tfid.get_feature_names())\n",
    "print()\n",
    "vectn = CountVectorizer(ngram_range=(2,2))  #  bi-gram MODEL VECTORIZER\n",
    "vectn.fit_transform(string2)\n",
    "print(vectn.get_feature_names())\n"
   ]
  },
  {
   "cell_type": "code",
   "execution_count": null,
   "id": "30203dd2",
   "metadata": {},
   "outputs": [],
   "source": [
    "# WE CAN SEE THAT NO DIFFERENCE BETWEEN N-GRAM OF COUNTVECTORIZER & TF-IDF  "
   ]
  },
  {
   "cell_type": "code",
   "execution_count": null,
   "id": "460c297f",
   "metadata": {},
   "outputs": [],
   "source": []
  },
  {
   "cell_type": "markdown",
   "id": "70347a0e",
   "metadata": {},
   "source": [
    "\n",
    "# WORD EMBEDDING - WORD2VEC"
   ]
  },
  {
   "cell_type": "code",
   "execution_count": 2,
   "id": "959b79ed",
   "metadata": {
    "scrolled": true
   },
   "outputs": [],
   "source": [
    "import re\n",
    "import nltk\n",
    "import string\n",
    "from gensim.models import Word2Vec\n",
    "from nltk.corpus import stopwords\n",
    "import matplotlib.pyplot as plt\n",
    "%matplotlib inline"
   ]
  },
  {
   "cell_type": "raw",
   "id": "c5e6c68f",
   "metadata": {},
   "source": [
    "EXAMPLE"
   ]
  },
  {
   "cell_type": "code",
   "execution_count": 67,
   "id": "5f67bfd4",
   "metadata": {},
   "outputs": [],
   "source": [
    "paragraph= \"\"\"On 2 April 2020, the government ordered a Hubei-like lockdown in Jia County, Henan, after a woman tested positive\n",
    "for the COVID-19. It is suspected that she may have been infected when she visited a hospital where three doctors tested \n",
    "positive for the virus, despite showing no symptoms.\n",
    "On 9 April, a COVID-19 cluster was detected in Heilongjiang Province, which started with an asymptomatic patient returning from \n",
    "the United States and quarantining at home. The US CDC reported that the infections were initially spread through a shared\n",
    "elevator used at different times, and led to at least 71 cases by 22 April. In early May, restrictions were tightened in\n",
    "Harbin.[66] In June, an outbreak with 45 people testing positive at Xinfadi Market in Beijing caused some alarm.\n",
    "Authorities closed the market and nearby schools; eleven neighborhoods in the Fengtai District started requiring temperature \n",
    "checks and were closed to visitors. By this time, public health technology included special leaf blower backpacks designed to \n",
    "vent hot air onto outdoor surfaces. By the evening of 23 June, Chinese Vice Premier Sun Chunlan declared that the situation \n",
    "had been brought under control. China's traffic authorities vowed to strictly guard traffic out of Beijing: those with abnormal\n",
    "health QR codes or without recently-taken negative PCR test proof would not be allowed to take public transportation or drive\n",
    "out of the capital. On 26 July, China saw its highest number of daily cases since March, mostly from outbreaks in Xinjiang \n",
    "and Liaoning.[74] with 61 new cases, up from 46 cases a day earlier,[75] This increased to 127 daily COVID cases on 30 July. \n",
    "The daily reported cases subsequently went down, to 16 on 23 August.[77]\n",
    "In July, Xinjiang province and its capital Ürümqi were locked down in the wake of the discovery of new cases in the city.\n",
    "On 11 October, officials in Qingdao urged to carry out contact tracing and mass testing after 12 new cases were found connected\n",
    "to the Qingdao Chest Hospital. On 12 October, it was announced that Qingdao would test all 9 million of its residents.[80]\n",
    "In October, 137 asymptomatic cases were detected in Kashgar, Xinjiang and were linked to a garment factory.[81][82]\n",
    "On 18 December, a local case was reported in Beijing. It was the first local infection in 152 days in Beijing. As of 27\n",
    "December, thirteen more cases have been detected.[83] Another outbreak linked to a traveler from South Korea was reported in \n",
    "Liaoning late December. 2021 In January 2021, many cities and districts in the province of Hebei, Jilin and Heilongjiang were\n",
    "put into lockdown to contain a new outbreak in the region.[84]\n",
    "On 7 January, Dalian authorities reported 51 confirmed COVID-19 cases and 31 asymptomatic carriers.[85]\n",
    "On 6 January, after reporting 63 new cases in the northern province of Hebei, of which 20 were infections and 43 asymptomatic\n",
    "cases locally transmitted, the local Government decided to lockdown the provincial capital city of Shijiazhuang, as most of the\n",
    "cases were detected there. On 9 January, the cities of Shijiazhuang and Xingtai with total population of 19 million, were \n",
    "placed under lockdown measures, with passenger trains suspended, as well as flights and coach service to Beijing at 300 km \n",
    "distance in north east direction.[86]\n",
    "On 14 January, Wangkui County of Suihua City, Heilongjiang Province moved into lockdown after reporting 40 confirmed COVID-19\n",
    "cases. The virus sample taken from the cases in Suihua is reported to be similar to the strain identified in Dalian.[87]\n",
    "Also on 14 January, China reported the first death from the virus after eight months, a patient from Hebei. A team of experts \n",
    "from the WHO visited Wuhan to conduct investigations into the origin of the pandemic. They were also supposed to quarantine for \n",
    "two weeks prior to starting their inquiry.[88] On 15 January, the city of Langfang of Hebei was put into lockdown.[89]\n",
    "By 18 January 11 regions in China were under de facto lockdown, including five districts in Heilongjiang and the cities of\n",
    "Gongzhuling and Tonghua in Jilin province.[90] On 20 January, residents of Daxing District of Beijing were banned from leaving\n",
    "the capital region.[91][92]\n",
    "On 4 April, China saw the largest number of reported COVID-19 cases in over two months, with 15 new reported cases of local \n",
    "transmission in the city of Ruili on the Burmese border.[93] This followed a previous outbreak in Ruili in September 2020.[94] \n",
    "Unauthorized border crossings from Myanmar remain a concern, and the local government has started vaccinating Ruili\n",
    "residents to work towards herd immunity.[93]\n",
    "On 30 May, authorities shut down Liwen district in Guangzhou and Yantian port in Shenzhen due to an outbreak in Guangdong\n",
    "province.[95] Foshan's Shadi Airport has cancelled all flights and suspended operations from 12 June.[96]\n",
    "On 6 June, Ruili was again put into lockdown after three local infections associated with the Delta variant.[97]\n",
    "On 10 July, it was reported that the new outbreak has spread to 13 cities in five provinces including the capital Beijing. \n",
    "The cases were linked to cleaners who worked on a flight from Russia that arrived in Nanjing on 10 July 2021 who did not \n",
    "follow strict hygiene measures. Officials added that the highly contagious Delta variant of the virus was behind these new \n",
    "infections and there are worries about whether the Chinese vaccines would work against the Delta variant.[98]\n",
    "On 21 July, another local cluster was identified in Nanjing after 17 airport workers have tested positive during a routine \n",
    "check up.[99] By 2 August, the outbreak, caused by fast-spreading Delta variant, has reached more than 20 cities. Zhuzhou, \n",
    "Zhangjiajie and Yangzhou were forced into lockdowns.[100] Some flights, trains and buses to Beijing have been cancelled to \n",
    "guard the capital against the new surge.[101]\n",
    "On 11 September, another cluster of infections was found in Xianyou county of Putian, Fujian province.[102] Multiple clusters\n",
    "have also emerged in Bayan county of Harbin, Heilongjiang, the source of infections remains unclear.[103]\n",
    "On 23 October, China reported the highest number of new cases since the September outbreak in Fujian, with domestic infections\n",
    "reported in Ejin Banner of Inner Mongolia and in Lanzhou, Gansu and new cases reported in Beijing, Ningxia, Jiangxi and Yunnan.\n",
    "Another outbreak by imported case was reported in the northern border town of Heihe, Heilongjiang province.[104]\n",
    "On 26 October, the city of Lanzhou was put into lockdown after six new cases were detected.[105]\n",
    "In early November, Dalian reported more than 80 cases of COVID-19, the first of which occurred in a warehouse worker in the\n",
    "Zhuanghe district of the city on 4 November. In response, on 8 November local authorities ordered all businesses handling \n",
    "imported chilled and frozen foods to suspend operations.[106]\n",
    "In mid-December, the outbreak in the cities of Ningbo, Shaoxing and Hangzhou was developing at a \"relatively rapid\" speed,\n",
    "forcing closure of flights and venues.[107] The outbreak began to subside from mid December, with Hangzhou resuming low-risk\n",
    "status as of 21 December.[108]\n",
    "On 22 December, the border city of Dongxing next to Vietnam has ordered residents to stay at home due to one COVID-19 case.\n",
    "The strict measures resulted in severe backlog of trucks at the border crossings and disrupted trade, prompting the Vietnam\n",
    "government to complain.[110]\n",
    "From 23 December 2021, the city of Xi'an with 13 million people was put into strict lockdown after local authorities reported\n",
    "more than 250 cases,[111] traced to the Delta variant by authorities.[108] The lockdown led to stressed healthcare and delayed \n",
    "or insufficient food deliveries to some parts of the city.[112]\n",
    "On 26 December 155 domestically transmitted cases with confirmed symptoms were reported from Xi'an, contributing the largest\n",
    "part to the countrywide highest daily count since the outbreak in Wuhan, of 158 cases.[113] The city was placed into strict\n",
    "lockdown until 24 January 2022.\n",
    "The city of Ruili bordering Myanmar was reported to have endured four lockdowns with 200 days in total in 2021. \"\"\""
   ]
  },
  {
   "cell_type": "code",
   "execution_count": 68,
   "id": "80cefc94",
   "metadata": {
    "scrolled": true
   },
   "outputs": [
    {
     "name": "stdout",
     "output_type": "stream",
     "text": [
      "on april , the government ordered a hubei-like lockdown in jia county, henan, after a woman tested positive for the covid- . it is suspected that she may have been infected when she visited a hospital where three doctors tested positive for the virus, despite showing no symptoms. on april, a covid- cluster was detected in heilongjiang province, which started with an asymptomatic patient returning from the united states and quarantining at home. the us cdc reported that the infections were initially spread through a shared elevator used at different times, and led to at least cases by april. in early may, restrictions were tightened in harbin. in june, an outbreak with people testing positive at xinfadi market in beijing caused some alarm. authorities closed the market and nearby schools; eleven neighborhoods in the fengtai district started requiring temperature checks and were closed to visitors. by this time, public health technology included special leaf blower backpacks designed to vent hot air onto outdoor surfaces. by the evening of june, chinese vice premier sun chunlan declared that the situation had been brought under control. china's traffic authorities vowed to strictly guard traffic out of beijing: those with abnormal health qr codes or without recently-taken negative pcr test proof would not be allowed to take public transportation or drive out of the capital. on july, china saw its highest number of daily cases since march, mostly from outbreaks in xinjiang and liaoning. with new cases, up from cases a day earlier, this increased to daily covid cases on july. the daily reported cases subsequently went down, to on august. in july, xinjiang province and its capital ürümqi were locked down in the wake of the discovery of new cases in the city. on october, officials in qingdao urged to carry out contact tracing and mass testing after new cases were found connected to the qingdao chest hospital. on october, it was announced that qingdao would test all million of its residents. in october, asymptomatic cases were detected in kashgar, xinjiang and were linked to a garment factory. on december, a local case was reported in beijing. it was the first local infection in days in beijing. as of december, thirteen more cases have been detected. another outbreak linked to a traveler from south korea was reported in liaoning late december. in january , many cities and districts in the province of hebei, jilin and heilongjiang were put into lockdown to contain a new outbreak in the region. on january, dalian authorities reported confirmed covid- cases and asymptomatic carriers. on january, after reporting new cases in the northern province of hebei, of which were infections and asymptomatic cases locally transmitted, the local government decided to lockdown the provincial capital city of shijiazhuang, as most of the cases were detected there. on january, the cities of shijiazhuang and xingtai with total population of million, were placed under lockdown measures, with passenger trains suspended, as well as flights and coach service to beijing at km distance in north east direction. on january, wangkui county of suihua city, heilongjiang province moved into lockdown after reporting confirmed covid- cases. the virus sample taken from the cases in suihua is reported to be similar to the strain identified in dalian. also on january, china reported the first death from the virus after eight months, a patient from hebei. a team of experts from the who visited wuhan to conduct investigations into the origin of the pandemic. they were also supposed to quarantine for two weeks prior to starting their inquiry. on january, the city of langfang of hebei was put into lockdown. by january regions in china were under de facto lockdown, including five districts in heilongjiang and the cities of gongzhuling and tonghua in jilin province. on january, residents of daxing district of beijing were banned from leaving the capital region. on april, china saw the largest number of reported covid- cases in over two months, with new reported cases of local transmission in the city of ruili on the burmese border. this followed a previous outbreak in ruili in september . unauthorized border crossings from myanmar remain a concern, and the local government has started vaccinating ruili residents to work towards herd immunity. on may, authorities shut down liwen district in guangzhou and yantian port in shenzhen due to an outbreak in guangdong province. foshan's shadi airport has cancelled all flights and suspended operations from june. on june, ruili was again put into lockdown after three local infections associated with the delta variant. on july, it was reported that the new outbreak has spread to cities in five provinces including the capital beijing. the cases were linked to cleaners who worked on a flight from russia that arrived in nanjing on july who did not follow strict hygiene measures. officials added that the highly contagious delta variant of the virus was behind these new infections and there are worries about whether the chinese vaccines would work against the delta variant. on july, another local cluster was identified in nanjing after airport workers have tested positive during a routine check up. by august, the outbreak, caused by fast-spreading delta variant, has reached more than cities. zhuzhou, zhangjiajie and yangzhou were forced into lockdowns. some flights, trains and buses to beijing have been cancelled to guard the capital against the new surge. on september, another cluster of infections was found in xianyou county of putian, fujian province. multiple clusters have also emerged in bayan county of harbin, heilongjiang, the source of infections remains unclear. on october, china reported the highest number of new cases since the september outbreak in fujian, with domestic infections reported in ejin banner of inner mongolia and in lanzhou, gansu and new cases reported in beijing, ningxia, jiangxi and yunnan. another outbreak by imported case was reported in the northern border town of heihe, heilongjiang province. on october, the city of lanzhou was put into lockdown after six new cases were detected. in early november, dalian reported more than cases of covid- , the first of which occurred in a warehouse worker in the zhuanghe district of the city on november. in response, on november local authorities ordered all businesses handling imported chilled and frozen foods to suspend operations. in mid-december, the outbreak in the cities of ningbo, shaoxing and hangzhou was developing at a \"relatively rapid\" speed, forcing closure of flights and venues. the outbreak began to subside from mid december, with hangzhou resuming low-risk status as of december. on december, the border city of dongxing next to vietnam has ordered residents to stay at home due to one covid- case. the strict measures resulted in severe backlog of trucks at the border crossings and disrupted trade, prompting the vietnam government to complain. from december , the city of xi'an with million people was put into strict lockdown after local authorities reported more than cases, traced to the delta variant by authorities. the lockdown led to stressed healthcare and delayed or insufficient food deliveries to some parts of the city. on december domestically transmitted cases with confirmed symptoms were reported from xi'an, contributing the largest part to the countrywide highest daily count since the outbreak in wuhan, of cases. the city was placed into strict lockdown until january . the city of ruili bordering myanmar was reported to have endured four lockdowns with days in total in . \n"
     ]
    }
   ],
   "source": [
    "\n",
    "para= paragraph.translate(str.maketrans( '  ','  ', string.punctuation))   \n",
    "para= re.sub(r'\\[[0-9]+\\]','', paragraph)\n",
    "para= re.sub(r'\\s+', ' ', para)\n",
    "para = para.lower()\n",
    "para = re.sub(r'\\d', ' ',para)     # its remove numbers from string\n",
    "\n",
    "para= re.sub(r'\\s+', ' ',para)   # its remove more space character\n",
    "print(para)"
   ]
  },
  {
   "cell_type": "code",
   "execution_count": 71,
   "id": "a5c8029e",
   "metadata": {
    "scrolled": true
   },
   "outputs": [
    {
     "name": "stdout",
     "output_type": "stream",
     "text": [
      "[['on', 'april', ',', 'the', 'government', 'ordered', 'a', 'hubei-like', 'lockdown', 'in', 'jia', 'county', ',', 'henan', ',', 'after', 'a', 'woman', 'tested', 'positive', 'for', 'the', 'covid-', '.'], ['it', 'is', 'suspected', 'that', 'she', 'may', 'have', 'been', 'infected', 'when', 'she', 'visited', 'a', 'hospital', 'where', 'three', 'doctors', 'tested', 'positive', 'for', 'the', 'virus', ',', 'despite', 'showing', 'no', 'symptoms', '.'], ['on', 'april', ',', 'a', 'covid-', 'cluster', 'was', 'detected', 'in', 'heilongjiang', 'province', ',', 'which', 'started', 'with', 'an', 'asymptomatic', 'patient', 'returning', 'from', 'the', 'united', 'states', 'and', 'quarantining', 'at', 'home', '.'], ['the', 'us', 'cdc', 'reported', 'that', 'the', 'infections', 'were', 'initially', 'spread', 'through', 'a', 'shared', 'elevator', 'used', 'at', 'different', 'times', ',', 'and', 'led', 'to', 'at', 'least', 'cases', 'by', 'april', '.'], ['in', 'early', 'may', ',', 'restrictions', 'were', 'tightened', 'in', 'harbin', '.'], ['in', 'june', ',', 'an', 'outbreak', 'with', 'people', 'testing', 'positive', 'at', 'xinfadi', 'market', 'in', 'beijing', 'caused', 'some', 'alarm', '.'], ['authorities', 'closed', 'the', 'market', 'and', 'nearby', 'schools', ';', 'eleven', 'neighborhoods', 'in', 'the', 'fengtai', 'district', 'started', 'requiring', 'temperature', 'checks', 'and', 'were', 'closed', 'to', 'visitors', '.'], ['by', 'this', 'time', ',', 'public', 'health', 'technology', 'included', 'special', 'leaf', 'blower', 'backpacks', 'designed', 'to', 'vent', 'hot', 'air', 'onto', 'outdoor', 'surfaces', '.'], ['by', 'the', 'evening', 'of', 'june', ',', 'chinese', 'vice', 'premier', 'sun', 'chunlan', 'declared', 'that', 'the', 'situation', 'had', 'been', 'brought', 'under', 'control', '.'], ['china', \"'s\", 'traffic', 'authorities', 'vowed', 'to', 'strictly', 'guard', 'traffic', 'out', 'of', 'beijing', ':', 'those', 'with', 'abnormal', 'health', 'qr', 'codes', 'or', 'without', 'recently-taken', 'negative', 'pcr', 'test', 'proof', 'would', 'not', 'be', 'allowed', 'to', 'take', 'public', 'transportation', 'or', 'drive', 'out', 'of', 'the', 'capital', '.'], ['on', 'july', ',', 'china', 'saw', 'its', 'highest', 'number', 'of', 'daily', 'cases', 'since', 'march', ',', 'mostly', 'from', 'outbreaks', 'in', 'xinjiang', 'and', 'liaoning', '.'], ['with', 'new', 'cases', ',', 'up', 'from', 'cases', 'a', 'day', 'earlier', ',', 'this', 'increased', 'to', 'daily', 'covid', 'cases', 'on', 'july', '.'], ['the', 'daily', 'reported', 'cases', 'subsequently', 'went', 'down', ',', 'to', 'on', 'august', '.'], ['in', 'july', ',', 'xinjiang', 'province', 'and', 'its', 'capital', 'ürümqi', 'were', 'locked', 'down', 'in', 'the', 'wake', 'of', 'the', 'discovery', 'of', 'new', 'cases', 'in', 'the', 'city', '.'], ['on', 'october', ',', 'officials', 'in', 'qingdao', 'urged', 'to', 'carry', 'out', 'contact', 'tracing', 'and', 'mass', 'testing', 'after', 'new', 'cases', 'were', 'found', 'connected', 'to', 'the', 'qingdao', 'chest', 'hospital', '.'], ['on', 'october', ',', 'it', 'was', 'announced', 'that', 'qingdao', 'would', 'test', 'all', 'million', 'of', 'its', 'residents', '.'], ['in', 'october', ',', 'asymptomatic', 'cases', 'were', 'detected', 'in', 'kashgar', ',', 'xinjiang', 'and', 'were', 'linked', 'to', 'a', 'garment', 'factory', '.'], ['on', 'december', ',', 'a', 'local', 'case', 'was', 'reported', 'in', 'beijing', '.'], ['it', 'was', 'the', 'first', 'local', 'infection', 'in', 'days', 'in', 'beijing', '.'], ['as', 'of', 'december', ',', 'thirteen', 'more', 'cases', 'have', 'been', 'detected', '.'], ['another', 'outbreak', 'linked', 'to', 'a', 'traveler', 'from', 'south', 'korea', 'was', 'reported', 'in', 'liaoning', 'late', 'december', '.'], ['in', 'january', ',', 'many', 'cities', 'and', 'districts', 'in', 'the', 'province', 'of', 'hebei', ',', 'jilin', 'and', 'heilongjiang', 'were', 'put', 'into', 'lockdown', 'to', 'contain', 'a', 'new', 'outbreak', 'in', 'the', 'region', '.'], ['on', 'january', ',', 'dalian', 'authorities', 'reported', 'confirmed', 'covid-', 'cases', 'and', 'asymptomatic', 'carriers', '.'], ['on', 'january', ',', 'after', 'reporting', 'new', 'cases', 'in', 'the', 'northern', 'province', 'of', 'hebei', ',', 'of', 'which', 'were', 'infections', 'and', 'asymptomatic', 'cases', 'locally', 'transmitted', ',', 'the', 'local', 'government', 'decided', 'to', 'lockdown', 'the', 'provincial', 'capital', 'city', 'of', 'shijiazhuang', ',', 'as', 'most', 'of', 'the', 'cases', 'were', 'detected', 'there', '.'], ['on', 'january', ',', 'the', 'cities', 'of', 'shijiazhuang', 'and', 'xingtai', 'with', 'total', 'population', 'of', 'million', ',', 'were', 'placed', 'under', 'lockdown', 'measures', ',', 'with', 'passenger', 'trains', 'suspended', ',', 'as', 'well', 'as', 'flights', 'and', 'coach', 'service', 'to', 'beijing', 'at', 'km', 'distance', 'in', 'north', 'east', 'direction', '.'], ['on', 'january', ',', 'wangkui', 'county', 'of', 'suihua', 'city', ',', 'heilongjiang', 'province', 'moved', 'into', 'lockdown', 'after', 'reporting', 'confirmed', 'covid-', 'cases', '.'], ['the', 'virus', 'sample', 'taken', 'from', 'the', 'cases', 'in', 'suihua', 'is', 'reported', 'to', 'be', 'similar', 'to', 'the', 'strain', 'identified', 'in', 'dalian', '.'], ['also', 'on', 'january', ',', 'china', 'reported', 'the', 'first', 'death', 'from', 'the', 'virus', 'after', 'eight', 'months', ',', 'a', 'patient', 'from', 'hebei', '.'], ['a', 'team', 'of', 'experts', 'from', 'the', 'who', 'visited', 'wuhan', 'to', 'conduct', 'investigations', 'into', 'the', 'origin', 'of', 'the', 'pandemic', '.'], ['they', 'were', 'also', 'supposed', 'to', 'quarantine', 'for', 'two', 'weeks', 'prior', 'to', 'starting', 'their', 'inquiry', '.'], ['on', 'january', ',', 'the', 'city', 'of', 'langfang', 'of', 'hebei', 'was', 'put', 'into', 'lockdown', '.'], ['by', 'january', 'regions', 'in', 'china', 'were', 'under', 'de', 'facto', 'lockdown', ',', 'including', 'five', 'districts', 'in', 'heilongjiang', 'and', 'the', 'cities', 'of', 'gongzhuling', 'and', 'tonghua', 'in', 'jilin', 'province', '.'], ['on', 'january', ',', 'residents', 'of', 'daxing', 'district', 'of', 'beijing', 'were', 'banned', 'from', 'leaving', 'the', 'capital', 'region', '.'], ['on', 'april', ',', 'china', 'saw', 'the', 'largest', 'number', 'of', 'reported', 'covid-', 'cases', 'in', 'over', 'two', 'months', ',', 'with', 'new', 'reported', 'cases', 'of', 'local', 'transmission', 'in', 'the', 'city', 'of', 'ruili', 'on', 'the', 'burmese', 'border', '.'], ['this', 'followed', 'a', 'previous', 'outbreak', 'in', 'ruili', 'in', 'september', '.'], ['unauthorized', 'border', 'crossings', 'from', 'myanmar', 'remain', 'a', 'concern', ',', 'and', 'the', 'local', 'government', 'has', 'started', 'vaccinating', 'ruili', 'residents', 'to', 'work', 'towards', 'herd', 'immunity', '.'], ['on', 'may', ',', 'authorities', 'shut', 'down', 'liwen', 'district', 'in', 'guangzhou', 'and', 'yantian', 'port', 'in', 'shenzhen', 'due', 'to', 'an', 'outbreak', 'in', 'guangdong', 'province', '.'], ['foshan', \"'s\", 'shadi', 'airport', 'has', 'cancelled', 'all', 'flights', 'and', 'suspended', 'operations', 'from', 'june', '.'], ['on', 'june', ',', 'ruili', 'was', 'again', 'put', 'into', 'lockdown', 'after', 'three', 'local', 'infections', 'associated', 'with', 'the', 'delta', 'variant', '.'], ['on', 'july', ',', 'it', 'was', 'reported', 'that', 'the', 'new', 'outbreak', 'has', 'spread', 'to', 'cities', 'in', 'five', 'provinces', 'including', 'the', 'capital', 'beijing', '.'], ['the', 'cases', 'were', 'linked', 'to', 'cleaners', 'who', 'worked', 'on', 'a', 'flight', 'from', 'russia', 'that', 'arrived', 'in', 'nanjing', 'on', 'july', 'who', 'did', 'not', 'follow', 'strict', 'hygiene', 'measures', '.'], ['officials', 'added', 'that', 'the', 'highly', 'contagious', 'delta', 'variant', 'of', 'the', 'virus', 'was', 'behind', 'these', 'new', 'infections', 'and', 'there', 'are', 'worries', 'about', 'whether', 'the', 'chinese', 'vaccines', 'would', 'work', 'against', 'the', 'delta', 'variant', '.'], ['on', 'july', ',', 'another', 'local', 'cluster', 'was', 'identified', 'in', 'nanjing', 'after', 'airport', 'workers', 'have', 'tested', 'positive', 'during', 'a', 'routine', 'check', 'up', '.'], ['by', 'august', ',', 'the', 'outbreak', ',', 'caused', 'by', 'fast-spreading', 'delta', 'variant', ',', 'has', 'reached', 'more', 'than', 'cities', '.'], ['zhuzhou', ',', 'zhangjiajie', 'and', 'yangzhou', 'were', 'forced', 'into', 'lockdowns', '.'], ['some', 'flights', ',', 'trains', 'and', 'buses', 'to', 'beijing', 'have', 'been', 'cancelled', 'to', 'guard', 'the', 'capital', 'against', 'the', 'new', 'surge', '.'], ['on', 'september', ',', 'another', 'cluster', 'of', 'infections', 'was', 'found', 'in', 'xianyou', 'county', 'of', 'putian', ',', 'fujian', 'province', '.'], ['multiple', 'clusters', 'have', 'also', 'emerged', 'in', 'bayan', 'county', 'of', 'harbin', ',', 'heilongjiang', ',', 'the', 'source', 'of', 'infections', 'remains', 'unclear', '.'], ['on', 'october', ',', 'china', 'reported', 'the', 'highest', 'number', 'of', 'new', 'cases', 'since', 'the', 'september', 'outbreak', 'in', 'fujian', ',', 'with', 'domestic', 'infections', 'reported', 'in', 'ejin', 'banner', 'of', 'inner', 'mongolia', 'and', 'in', 'lanzhou', ',', 'gansu', 'and', 'new', 'cases', 'reported', 'in', 'beijing', ',', 'ningxia', ',', 'jiangxi', 'and', 'yunnan', '.'], ['another', 'outbreak', 'by', 'imported', 'case', 'was', 'reported', 'in', 'the', 'northern', 'border', 'town', 'of', 'heihe', ',', 'heilongjiang', 'province', '.'], ['on', 'october', ',', 'the', 'city', 'of', 'lanzhou', 'was', 'put', 'into', 'lockdown', 'after', 'six', 'new', 'cases', 'were', 'detected', '.'], ['in', 'early', 'november', ',', 'dalian', 'reported', 'more', 'than', 'cases', 'of', 'covid-', ',', 'the', 'first', 'of', 'which', 'occurred', 'in', 'a', 'warehouse', 'worker', 'in', 'the', 'zhuanghe', 'district', 'of', 'the', 'city', 'on', 'november', '.'], ['in', 'response', ',', 'on', 'november', 'local', 'authorities', 'ordered', 'all', 'businesses', 'handling', 'imported', 'chilled', 'and', 'frozen', 'foods', 'to', 'suspend', 'operations', '.'], ['in', 'mid-december', ',', 'the', 'outbreak', 'in', 'the', 'cities', 'of', 'ningbo', ',', 'shaoxing', 'and', 'hangzhou', 'was', 'developing', 'at', 'a', '``', 'relatively', 'rapid', \"''\", 'speed', ',', 'forcing', 'closure', 'of', 'flights', 'and', 'venues', '.'], ['the', 'outbreak', 'began', 'to', 'subside', 'from', 'mid', 'december', ',', 'with', 'hangzhou', 'resuming', 'low-risk', 'status', 'as', 'of', 'december', '.'], ['on', 'december', ',', 'the', 'border', 'city', 'of', 'dongxing', 'next', 'to', 'vietnam', 'has', 'ordered', 'residents', 'to', 'stay', 'at', 'home', 'due', 'to', 'one', 'covid-', 'case', '.'], ['the', 'strict', 'measures', 'resulted', 'in', 'severe', 'backlog', 'of', 'trucks', 'at', 'the', 'border', 'crossings', 'and', 'disrupted', 'trade', ',', 'prompting', 'the', 'vietnam', 'government', 'to', 'complain', '.'], ['from', 'december', ',', 'the', 'city', 'of', \"xi'an\", 'with', 'million', 'people', 'was', 'put', 'into', 'strict', 'lockdown', 'after', 'local', 'authorities', 'reported', 'more', 'than', 'cases', ',', 'traced', 'to', 'the', 'delta', 'variant', 'by', 'authorities', '.'], ['the', 'lockdown', 'led', 'to', 'stressed', 'healthcare', 'and', 'delayed', 'or', 'insufficient', 'food', 'deliveries', 'to', 'some', 'parts', 'of', 'the', 'city', '.'], ['on', 'december', 'domestically', 'transmitted', 'cases', 'with', 'confirmed', 'symptoms', 'were', 'reported', 'from', \"xi'an\", ',', 'contributing', 'the', 'largest', 'part', 'to', 'the', 'countrywide', 'highest', 'daily', 'count', 'since', 'the', 'outbreak', 'in', 'wuhan', ',', 'of', 'cases', '.'], ['the', 'city', 'was', 'placed', 'into', 'strict', 'lockdown', 'until', 'january', '.'], ['the', 'city', 'of', 'ruili', 'bordering', 'myanmar', 'was', 'reported', 'to', 'have', 'endured', 'four', 'lockdowns', 'with', 'days', 'in', 'total', 'in', '.']]\n"
     ]
    }
   ],
   "source": [
    "\n",
    "sentences= nltk.sent_tokenize(para)\n",
    "word1= [word_tokenize(sentence) for sentence in sentences]\n",
    "print(word1)"
   ]
  },
  {
   "cell_type": "code",
   "execution_count": 73,
   "id": "b6215b86",
   "metadata": {
    "scrolled": true
   },
   "outputs": [
    {
     "name": "stdout",
     "output_type": "stream",
     "text": [
      "[['april', 'government', 'ordered', 'hubei-like', 'lockdown', 'jia', 'county', 'henan', 'woman', 'tested', 'positive', 'covid-'], ['suspected', 'may', 'infected', 'visited', 'hospital', 'three', 'doctors', 'tested', 'positive', 'virus', 'despite', 'showing', 'symptoms'], ['april', 'covid-', 'cluster', 'detected', 'heilongjiang', 'province', 'started', 'asymptomatic', 'patient', 'returning', 'united', 'states', 'quarantining', 'home'], ['us', 'cdc', 'reported', 'infections', 'initially', 'spread', 'shared', 'elevator', 'used', 'different', 'times', 'led', 'least', 'cases', 'april'], ['early', 'may', 'restrictions', 'tightened', 'harbin'], ['june', 'outbreak', 'people', 'testing', 'positive', 'xinfadi', 'market', 'beijing', 'caused', 'alarm'], ['authorities', 'closed', 'market', 'nearby', 'schools', 'eleven', 'neighborhoods', 'fengtai', 'district', 'started', 'requiring', 'temperature', 'checks', 'closed', 'visitors'], ['time', 'public', 'health', 'technology', 'included', 'special', 'leaf', 'blower', 'backpacks', 'designed', 'vent', 'hot', 'air', 'onto', 'outdoor', 'surfaces'], ['evening', 'june', 'chinese', 'vice', 'premier', 'sun', 'chunlan', 'declared', 'situation', 'brought', 'control'], ['china', \"'s\", 'traffic', 'authorities', 'vowed', 'strictly', 'guard', 'traffic', 'beijing', 'abnormal', 'health', 'qr', 'codes', 'without', 'recently-taken', 'negative', 'pcr', 'test', 'proof', 'would', 'allowed', 'take', 'public', 'transportation', 'drive', 'capital'], ['july', 'china', 'saw', 'highest', 'number', 'daily', 'cases', 'since', 'march', 'mostly', 'outbreaks', 'xinjiang', 'liaoning'], ['new', 'cases', 'cases', 'day', 'earlier', 'increased', 'daily', 'covid', 'cases', 'july'], ['daily', 'reported', 'cases', 'subsequently', 'went', 'august'], ['july', 'xinjiang', 'province', 'capital', 'ürümqi', 'locked', 'wake', 'discovery', 'new', 'cases', 'city'], ['october', 'officials', 'qingdao', 'urged', 'carry', 'contact', 'tracing', 'mass', 'testing', 'new', 'cases', 'found', 'connected', 'qingdao', 'chest', 'hospital'], ['october', 'announced', 'qingdao', 'would', 'test', 'million', 'residents'], ['october', 'asymptomatic', 'cases', 'detected', 'kashgar', 'xinjiang', 'linked', 'garment', 'factory'], ['december', 'local', 'case', 'reported', 'beijing'], ['first', 'local', 'infection', 'days', 'beijing'], ['december', 'thirteen', 'cases', 'detected'], ['another', 'outbreak', 'linked', 'traveler', 'south', 'korea', 'reported', 'liaoning', 'late', 'december'], ['january', 'many', 'cities', 'districts', 'province', 'hebei', 'jilin', 'heilongjiang', 'put', 'lockdown', 'contain', 'new', 'outbreak', 'region'], ['january', 'dalian', 'authorities', 'reported', 'confirmed', 'covid-', 'cases', 'asymptomatic', 'carriers'], ['january', 'reporting', 'new', 'cases', 'northern', 'province', 'hebei', 'infections', 'asymptomatic', 'cases', 'locally', 'transmitted', 'local', 'government', 'decided', 'lockdown', 'provincial', 'capital', 'city', 'shijiazhuang', 'cases', 'detected'], ['january', 'cities', 'shijiazhuang', 'xingtai', 'total', 'population', 'million', 'placed', 'lockdown', 'measures', 'passenger', 'trains', 'suspended', 'well', 'flights', 'coach', 'service', 'beijing', 'km', 'distance', 'north', 'east', 'direction'], ['january', 'wangkui', 'county', 'suihua', 'city', 'heilongjiang', 'province', 'moved', 'lockdown', 'reporting', 'confirmed', 'covid-', 'cases'], ['virus', 'sample', 'taken', 'cases', 'suihua', 'reported', 'similar', 'strain', 'identified', 'dalian'], ['also', 'january', 'china', 'reported', 'first', 'death', 'virus', 'eight', 'months', 'patient', 'hebei'], ['team', 'experts', 'visited', 'wuhan', 'conduct', 'investigations', 'origin', 'pandemic'], ['also', 'supposed', 'quarantine', 'two', 'weeks', 'prior', 'starting', 'inquiry'], ['january', 'city', 'langfang', 'hebei', 'put', 'lockdown'], ['january', 'regions', 'china', 'de', 'facto', 'lockdown', 'including', 'five', 'districts', 'heilongjiang', 'cities', 'gongzhuling', 'tonghua', 'jilin', 'province'], ['january', 'residents', 'daxing', 'district', 'beijing', 'banned', 'leaving', 'capital', 'region'], ['april', 'china', 'saw', 'largest', 'number', 'reported', 'covid-', 'cases', 'two', 'months', 'new', 'reported', 'cases', 'local', 'transmission', 'city', 'ruili', 'burmese', 'border'], ['followed', 'previous', 'outbreak', 'ruili', 'september'], ['unauthorized', 'border', 'crossings', 'myanmar', 'remain', 'concern', 'local', 'government', 'started', 'vaccinating', 'ruili', 'residents', 'work', 'towards', 'herd', 'immunity'], ['may', 'authorities', 'shut', 'liwen', 'district', 'guangzhou', 'yantian', 'port', 'shenzhen', 'due', 'outbreak', 'guangdong', 'province'], ['foshan', \"'s\", 'shadi', 'airport', 'cancelled', 'flights', 'suspended', 'operations', 'june'], ['june', 'ruili', 'put', 'lockdown', 'three', 'local', 'infections', 'associated', 'delta', 'variant'], ['july', 'reported', 'new', 'outbreak', 'spread', 'cities', 'five', 'provinces', 'including', 'capital', 'beijing'], ['cases', 'linked', 'cleaners', 'worked', 'flight', 'russia', 'arrived', 'nanjing', 'july', 'follow', 'strict', 'hygiene', 'measures'], ['officials', 'added', 'highly', 'contagious', 'delta', 'variant', 'virus', 'behind', 'new', 'infections', 'worries', 'whether', 'chinese', 'vaccines', 'would', 'work', 'delta', 'variant'], ['july', 'another', 'local', 'cluster', 'identified', 'nanjing', 'airport', 'workers', 'tested', 'positive', 'routine', 'check'], ['august', 'outbreak', 'caused', 'fast-spreading', 'delta', 'variant', 'reached', 'cities'], ['zhuzhou', 'zhangjiajie', 'yangzhou', 'forced', 'lockdowns'], ['flights', 'trains', 'buses', 'beijing', 'cancelled', 'guard', 'capital', 'new', 'surge'], ['september', 'another', 'cluster', 'infections', 'found', 'xianyou', 'county', 'putian', 'fujian', 'province'], ['multiple', 'clusters', 'also', 'emerged', 'bayan', 'county', 'harbin', 'heilongjiang', 'source', 'infections', 'remains', 'unclear'], ['october', 'china', 'reported', 'highest', 'number', 'new', 'cases', 'since', 'september', 'outbreak', 'fujian', 'domestic', 'infections', 'reported', 'ejin', 'banner', 'inner', 'mongolia', 'lanzhou', 'gansu', 'new', 'cases', 'reported', 'beijing', 'ningxia', 'jiangxi', 'yunnan'], ['another', 'outbreak', 'imported', 'case', 'reported', 'northern', 'border', 'town', 'heihe', 'heilongjiang', 'province'], ['october', 'city', 'lanzhou', 'put', 'lockdown', 'six', 'new', 'cases', 'detected'], ['early', 'november', 'dalian', 'reported', 'cases', 'covid-', 'first', 'occurred', 'warehouse', 'worker', 'zhuanghe', 'district', 'city', 'november'], ['response', 'november', 'local', 'authorities', 'ordered', 'businesses', 'handling', 'imported', 'chilled', 'frozen', 'foods', 'suspend', 'operations'], ['mid-december', 'outbreak', 'cities', 'ningbo', 'shaoxing', 'hangzhou', 'developing', '``', 'relatively', 'rapid', \"''\", 'speed', 'forcing', 'closure', 'flights', 'venues'], ['outbreak', 'began', 'subside', 'mid', 'december', 'hangzhou', 'resuming', 'low-risk', 'status', 'december'], ['december', 'border', 'city', 'dongxing', 'next', 'vietnam', 'ordered', 'residents', 'stay', 'home', 'due', 'one', 'covid-', 'case'], ['strict', 'measures', 'resulted', 'severe', 'backlog', 'trucks', 'border', 'crossings', 'disrupted', 'trade', 'prompting', 'vietnam', 'government', 'complain'], ['december', 'city', \"xi'an\", 'million', 'people', 'put', 'strict', 'lockdown', 'local', 'authorities', 'reported', 'cases', 'traced', 'delta', 'variant', 'authorities'], ['lockdown', 'led', 'stressed', 'healthcare', 'delayed', 'insufficient', 'food', 'deliveries', 'parts', 'city'], ['december', 'domestically', 'transmitted', 'cases', 'confirmed', 'symptoms', 'reported', \"xi'an\", 'contributing', 'largest', 'part', 'countrywide', 'highest', 'daily', 'count', 'since', 'outbreak', 'wuhan', 'cases'], ['city', 'placed', 'strict', 'lockdown', 'january'], ['city', 'ruili', 'bordering', 'myanmar', 'reported', 'endured', 'four', 'lockdowns', 'days', 'total']]\n"
     ]
    }
   ],
   "source": [
    "punc= string.punctuation\n",
    "\n",
    "for i in range(len(word1)):\n",
    "    word1[i]= [word for word in word1[i] if word not in stopwords.words('english') if word not in punc]\n",
    "print(word1)"
   ]
  },
  {
   "cell_type": "code",
   "execution_count": null,
   "id": "5734e939",
   "metadata": {},
   "outputs": [],
   "source": []
  },
  {
   "cell_type": "code",
   "execution_count": 75,
   "id": "7fa2d6c9",
   "metadata": {},
   "outputs": [],
   "source": [
    "model= Word2Vec(word1, min_count=1)"
   ]
  },
  {
   "cell_type": "code",
   "execution_count": 111,
   "id": "243c1faa",
   "metadata": {},
   "outputs": [
    {
     "data": {
      "text/plain": [
       "{'cases': 0,\n",
       " 'reported': 1,\n",
       " 'new': 2,\n",
       " 'outbreak': 3,\n",
       " 'lockdown': 4,\n",
       " 'city': 5,\n",
       " 'january': 6,\n",
       " 'province': 7,\n",
       " 'beijing': 8,\n",
       " 'local': 9,\n",
       " 'december': 10,\n",
       " 'authorities': 11,\n",
       " 'infections': 12,\n",
       " 'covid-': 13,\n",
       " 'july': 14,\n",
       " 'capital': 15,\n",
       " 'heilongjiang': 16,\n",
       " 'china': 17,\n",
       " 'cities': 18,\n",
       " 'variant': 19,\n",
       " 'delta': 20,\n",
       " 'october': 21,\n",
       " 'put': 22,\n",
       " 'ruili': 23,\n",
       " 'border': 24,\n",
       " 'detected': 25,\n",
       " 'residents': 26,\n",
       " 'another': 27,\n",
       " 'hebei': 28,\n",
       " 'daily': 29,\n",
       " 'flights': 30,\n",
       " 'district': 31,\n",
       " 'strict': 32,\n",
       " 'april': 33,\n",
       " 'government': 34,\n",
       " 'positive': 35,\n",
       " 'asymptomatic': 36,\n",
       " 'june': 37,\n",
       " 'virus': 38,\n",
       " 'county': 39,\n",
       " 'linked': 40,\n",
       " 'november': 41,\n",
       " 'started': 42,\n",
       " 'qingdao': 43,\n",
       " 'million': 44,\n",
       " 'cluster': 45,\n",
       " 'also': 46,\n",
       " 'tested': 47,\n",
       " 'since': 48,\n",
       " 'case': 49,\n",
       " 'first': 50,\n",
       " 'measures': 51,\n",
       " 'may': 52,\n",
       " 'dalian': 53,\n",
       " 'xinjiang': 54,\n",
       " 'confirmed': 55,\n",
       " 'number': 56,\n",
       " 'highest': 57,\n",
       " 'would': 58,\n",
       " 'ordered': 59,\n",
       " 'september': 60,\n",
       " 'two': 61,\n",
       " 'suspended': 62,\n",
       " 'operations': 63,\n",
       " 'northern': 64,\n",
       " 'cancelled': 65,\n",
       " 'transmitted': 66,\n",
       " 'airport': 67,\n",
       " 'shijiazhuang': 68,\n",
       " 'total': 69,\n",
       " 'due': 70,\n",
       " 'trains': 71,\n",
       " 'crossings': 72,\n",
       " 'work': 73,\n",
       " 'myanmar': 74,\n",
       " 'wuhan': 75,\n",
       " 'largest': 76,\n",
       " 'suihua': 77,\n",
       " 'five': 78,\n",
       " 'identified': 79,\n",
       " 'including': 80,\n",
       " 'reporting': 81,\n",
       " 'months': 82,\n",
       " 'market': 83,\n",
       " 'three': 84,\n",
       " 'region': 85,\n",
       " 'led': 86,\n",
       " 'caused': 87,\n",
       " 'people': 88,\n",
       " 'closed': 89,\n",
       " 'public': 90,\n",
       " 'health': 91,\n",
       " 'chinese': 92,\n",
       " 'harbin': 93,\n",
       " \"'s\": 94,\n",
       " 'traffic': 95,\n",
       " 'guard': 96,\n",
       " 'test': 97,\n",
       " 'early': 98,\n",
       " 'saw': 99,\n",
       " 'jilin': 100,\n",
       " 'spread': 101,\n",
       " 'home': 102,\n",
       " 'patient': 103,\n",
       " 'august': 104,\n",
       " 'officials': 105,\n",
       " 'found': 106,\n",
       " 'symptoms': 107,\n",
       " 'days': 108,\n",
       " 'testing': 109,\n",
       " 'hospital': 110,\n",
       " 'visited': 111,\n",
       " 'districts': 112,\n",
       " 'liaoning': 113,\n",
       " 'placed': 114,\n",
       " 'imported': 115,\n",
       " 'lanzhou': 116,\n",
       " 'nanjing': 117,\n",
       " 'lockdowns': 118,\n",
       " 'vietnam': 119,\n",
       " \"xi'an\": 120,\n",
       " 'fujian': 121,\n",
       " 'hangzhou': 122,\n",
       " 'sun': 123,\n",
       " 'premier': 124,\n",
       " 'evening': 125,\n",
       " 'chunlan': 126,\n",
       " 'declared': 127,\n",
       " 'situation': 128,\n",
       " 'brought': 129,\n",
       " 'control': 130,\n",
       " 'vice': 131,\n",
       " 'relatively': 132,\n",
       " '``': 133,\n",
       " 'provinces': 134,\n",
       " 'outdoor': 135,\n",
       " 'surfaces': 136,\n",
       " 'special': 137,\n",
       " 'visitors': 138,\n",
       " 'time': 139,\n",
       " \"''\": 140,\n",
       " 'rapid': 141,\n",
       " 'technology': 142,\n",
       " 'included': 143,\n",
       " 'leaf': 144,\n",
       " 'onto': 145,\n",
       " 'blower': 146,\n",
       " 'backpacks': 147,\n",
       " 'designed': 148,\n",
       " 'vent': 149,\n",
       " 'hot': 150,\n",
       " 'air': 151,\n",
       " 'developing': 152,\n",
       " 'shaoxing': 153,\n",
       " 'vowed': 154,\n",
       " 'mostly': 155,\n",
       " 'frozen': 156,\n",
       " 'chilled': 157,\n",
       " 'handling': 158,\n",
       " 'businesses': 159,\n",
       " 'response': 160,\n",
       " 'march': 161,\n",
       " 'outbreaks': 162,\n",
       " 'strictly': 163,\n",
       " 'zhuanghe': 164,\n",
       " 'worker': 165,\n",
       " 'warehouse': 166,\n",
       " 'day': 167,\n",
       " 'earlier': 168,\n",
       " 'increased': 169,\n",
       " 'foods': 170,\n",
       " 'suspend': 171,\n",
       " 'drive': 172,\n",
       " 'transportation': 173,\n",
       " 'take': 174,\n",
       " 'allowed': 175,\n",
       " 'mid-december': 176,\n",
       " 'proof': 177,\n",
       " 'ningbo': 178,\n",
       " 'pcr': 179,\n",
       " 'negative': 180,\n",
       " 'recently-taken': 181,\n",
       " 'without': 182,\n",
       " 'codes': 183,\n",
       " 'qr': 184,\n",
       " 'abnormal': 185,\n",
       " 'temperature': 186,\n",
       " 'checks': 187,\n",
       " 'speed': 188,\n",
       " 'requiring': 189,\n",
       " 'complain': 190,\n",
       " 'doctors': 191,\n",
       " 'healthcare': 192,\n",
       " 'despite': 193,\n",
       " 'showing': 194,\n",
       " 'stressed': 195,\n",
       " 'traced': 196,\n",
       " 'prompting': 197,\n",
       " 'backlog': 198,\n",
       " 'trade': 199,\n",
       " 'disrupted': 200,\n",
       " 'trucks': 201,\n",
       " 'returning': 202,\n",
       " 'united': 203,\n",
       " 'states': 204,\n",
       " 'delayed': 205,\n",
       " 'insufficient': 206,\n",
       " 'food': 207,\n",
       " 'infected': 208,\n",
       " 'deliveries': 209,\n",
       " 'suspected': 210,\n",
       " 'parts': 211,\n",
       " 'domestically': 212,\n",
       " 'contributing': 213,\n",
       " 'woman': 214,\n",
       " 'henan': 215,\n",
       " 'part': 216,\n",
       " 'jia': 217,\n",
       " 'countrywide': 218,\n",
       " 'hubei-like': 219,\n",
       " 'count': 220,\n",
       " 'bordering': 221,\n",
       " 'quarantining': 222,\n",
       " 'us': 223,\n",
       " 'subsequently': 224,\n",
       " 'alarm': 225,\n",
       " 'resuming': 226,\n",
       " 'mid': 227,\n",
       " 'xinfadi': 228,\n",
       " 'subside': 229,\n",
       " 'began': 230,\n",
       " 'venues': 231,\n",
       " 'closure': 232,\n",
       " 'cdc': 233,\n",
       " 'forcing': 234,\n",
       " 'nearby': 235,\n",
       " 'schools': 236,\n",
       " 'eleven': 237,\n",
       " 'neighborhoods': 238,\n",
       " 'fengtai': 239,\n",
       " 'low-risk': 240,\n",
       " 'status': 241,\n",
       " 'dongxing': 242,\n",
       " 'tightened': 243,\n",
       " 'restrictions': 244,\n",
       " 'next': 245,\n",
       " 'least': 246,\n",
       " 'stay': 247,\n",
       " 'times': 248,\n",
       " 'different': 249,\n",
       " 'used': 250,\n",
       " 'elevator': 251,\n",
       " 'shared': 252,\n",
       " 'one': 253,\n",
       " 'initially': 254,\n",
       " 'resulted': 255,\n",
       " 'severe': 256,\n",
       " 'covid': 257,\n",
       " 'ürümqi': 258,\n",
       " 'went': 259,\n",
       " 'inquiry': 260,\n",
       " 'supposed': 261,\n",
       " 'quarantine': 262,\n",
       " 'whether': 263,\n",
       " 'weeks': 264,\n",
       " 'prior': 265,\n",
       " 'starting': 266,\n",
       " 'langfang': 267,\n",
       " 'wangkui': 268,\n",
       " 'regions': 269,\n",
       " 'de': 270,\n",
       " 'facto': 271,\n",
       " 'worries': 272,\n",
       " 'behind': 273,\n",
       " 'gongzhuling': 274,\n",
       " 'pandemic': 275,\n",
       " 'origin': 276,\n",
       " 'investigations': 277,\n",
       " 'conduct': 278,\n",
       " 'vaccines': 279,\n",
       " 'experts': 280,\n",
       " 'team': 281,\n",
       " 'workers': 282,\n",
       " 'eight': 283,\n",
       " 'death': 284,\n",
       " 'routine': 285,\n",
       " 'check': 286,\n",
       " 'strain': 287,\n",
       " 'similar': 288,\n",
       " 'taken': 289,\n",
       " 'sample': 290,\n",
       " 'moved': 291,\n",
       " 'tonghua': 292,\n",
       " 'daxing': 293,\n",
       " 'banned': 294,\n",
       " 'herd': 295,\n",
       " 'cleaners': 296,\n",
       " 'worked': 297,\n",
       " 'flight': 298,\n",
       " 'shadi': 299,\n",
       " 'foshan': 300,\n",
       " 'guangdong': 301,\n",
       " 'russia': 302,\n",
       " 'shenzhen': 303,\n",
       " 'port': 304,\n",
       " 'yantian': 305,\n",
       " 'guangzhou': 306,\n",
       " 'liwen': 307,\n",
       " 'shut': 308,\n",
       " 'immunity': 309,\n",
       " 'towards': 310,\n",
       " 'leaving': 311,\n",
       " 'arrived': 312,\n",
       " 'vaccinating': 313,\n",
       " 'concern': 314,\n",
       " 'remain': 315,\n",
       " 'follow': 316,\n",
       " 'unauthorized': 317,\n",
       " 'hygiene': 318,\n",
       " 'previous': 319,\n",
       " 'followed': 320,\n",
       " 'added': 321,\n",
       " 'burmese': 322,\n",
       " 'highly': 323,\n",
       " 'transmission': 324,\n",
       " 'contagious': 325,\n",
       " 'fast-spreading': 326,\n",
       " 'direction': 327,\n",
       " 'occurred': 328,\n",
       " 'inner': 329,\n",
       " 'ningxia': 330,\n",
       " 'kashgar': 331,\n",
       " 'gansu': 332,\n",
       " 'garment': 333,\n",
       " 'factory': 334,\n",
       " 'mongolia': 335,\n",
       " 'banner': 336,\n",
       " 'east': 337,\n",
       " 'infection': 338,\n",
       " 'ejin': 339,\n",
       " 'thirteen': 340,\n",
       " 'domestic': 341,\n",
       " 'traveler': 342,\n",
       " 'south': 343,\n",
       " 'jiangxi': 344,\n",
       " 'announced': 345,\n",
       " 'chest': 346,\n",
       " 'connected': 347,\n",
       " 'yunnan': 348,\n",
       " 'mass': 349,\n",
       " 'tracing': 350,\n",
       " 'contact': 351,\n",
       " 'carry': 352,\n",
       " 'urged': 353,\n",
       " 'town': 354,\n",
       " 'heihe': 355,\n",
       " 'six': 356,\n",
       " 'discovery': 357,\n",
       " 'wake': 358,\n",
       " 'locked': 359,\n",
       " 'associated': 360,\n",
       " 'korea': 361,\n",
       " 'late': 362,\n",
       " 'unclear': 363,\n",
       " 'xingtai': 364,\n",
       " 'north': 365,\n",
       " 'distance': 366,\n",
       " 'km': 367,\n",
       " 'service': 368,\n",
       " 'coach': 369,\n",
       " 'reached': 370,\n",
       " 'well': 371,\n",
       " 'zhuzhou': 372,\n",
       " 'zhangjiajie': 373,\n",
       " 'passenger': 374,\n",
       " 'yangzhou': 375,\n",
       " 'endured': 376,\n",
       " 'population': 377,\n",
       " 'forced': 378,\n",
       " 'provincial': 379,\n",
       " 'many': 380,\n",
       " 'decided': 381,\n",
       " 'buses': 382,\n",
       " 'locally': 383,\n",
       " 'surge': 384,\n",
       " 'xianyou': 385,\n",
       " 'carriers': 386,\n",
       " 'putian': 387,\n",
       " 'multiple': 388,\n",
       " 'contain': 389,\n",
       " 'clusters': 390,\n",
       " 'emerged': 391,\n",
       " 'bayan': 392,\n",
       " 'source': 393,\n",
       " 'remains': 394,\n",
       " 'four': 395}"
      ]
     },
     "execution_count": 111,
     "metadata": {},
     "output_type": "execute_result"
    }
   ],
   "source": [
    "model.wv.key_to_index"
   ]
  },
  {
   "cell_type": "code",
   "execution_count": 114,
   "id": "a69cce9b",
   "metadata": {},
   "outputs": [
    {
     "data": {
      "text/plain": [
       "0.14927146"
      ]
     },
     "execution_count": 114,
     "metadata": {},
     "output_type": "execute_result"
    }
   ],
   "source": [
    "\n",
    "# CHECKING WORD SIMILARITY\n",
    "model.wv.similarity(w1='severe', w2='infection')"
   ]
  },
  {
   "cell_type": "code",
   "execution_count": 88,
   "id": "3e0d9a8f",
   "metadata": {},
   "outputs": [
    {
     "name": "stdout",
     "output_type": "stream",
     "text": [
      "severe\n"
     ]
    }
   ],
   "source": [
    "#\n",
    "import random\n",
    "random_word = random.choice(model.wv.index_to_key)  # \n",
    "print(random_word)"
   ]
  },
  {
   "cell_type": "code",
   "execution_count": 86,
   "id": "b902f65b",
   "metadata": {},
   "outputs": [
    {
     "data": {
      "text/plain": [
       "231"
      ]
     },
     "execution_count": 86,
     "metadata": {},
     "output_type": "execute_result"
    }
   ],
   "source": [
    "model.wv.key_to_index[\"venues\"]"
   ]
  },
  {
   "cell_type": "code",
   "execution_count": 93,
   "id": "90d00f4f",
   "metadata": {},
   "outputs": [
    {
     "data": {
      "text/plain": [
       "4"
      ]
     },
     "execution_count": 93,
     "metadata": {},
     "output_type": "execute_result"
    }
   ],
   "source": [
    "model.wv.get_vecattr(\"april\", \"count\")  # \n"
   ]
  },
  {
   "cell_type": "code",
   "execution_count": 94,
   "id": "a7bd93a7",
   "metadata": {},
   "outputs": [
    {
     "data": {
      "text/plain": [
       "396"
      ]
     },
     "execution_count": 94,
     "metadata": {},
     "output_type": "execute_result"
    }
   ],
   "source": [
    "len(model.wv)"
   ]
  },
  {
   "cell_type": "code",
   "execution_count": 98,
   "id": "585f31f4",
   "metadata": {},
   "outputs": [
    {
     "data": {
      "text/plain": [
       "1"
      ]
     },
     "execution_count": 98,
     "metadata": {},
     "output_type": "execute_result"
    }
   ],
   "source": [
    "model.min_count"
   ]
  },
  {
   "cell_type": "code",
   "execution_count": 107,
   "id": "8547ea24",
   "metadata": {
    "scrolled": true
   },
   "outputs": [
    {
     "data": {
      "text/plain": [
       "array([ 3.0436775e-05, -2.9612952e-03,  7.0214579e-03,  8.6833853e-03,\n",
       "       -5.6638713e-03,  8.2854601e-03, -1.9629041e-03, -8.1557930e-03,\n",
       "       -6.2074945e-03,  4.4611571e-03,  8.7139495e-03,  1.7509294e-03,\n",
       "        3.3564114e-03,  3.5374062e-03, -1.2956450e-03, -4.6093040e-03,\n",
       "        9.0733152e-03, -6.7517716e-03, -3.6883848e-03, -7.7322670e-03,\n",
       "        9.8445136e-03,  4.4777067e-03, -3.8358201e-03,  2.9051693e-03,\n",
       "       -7.3165307e-03,  2.0047112e-03, -6.4551551e-03, -5.0492762e-03,\n",
       "       -3.2226534e-03,  7.5355568e-03,  3.0013807e-03, -7.5884722e-03,\n",
       "       -1.2651419e-04,  2.5530460e-03,  9.8449988e-03,  3.9045874e-03,\n",
       "        5.7082134e-04, -9.7335568e-03, -1.5268179e-03,  1.0476116e-03,\n",
       "        5.7016658e-03, -7.4237539e-03,  9.7329561e-03,  2.1561303e-03,\n",
       "        5.8059669e-03,  5.4513500e-03, -2.5994533e-03,  1.7331009e-03,\n",
       "        9.6213296e-03,  5.1454683e-03, -4.1228845e-03,  9.0570077e-03,\n",
       "        2.5486650e-03,  4.1900873e-03,  9.3713012e-03, -1.9905870e-03,\n",
       "       -5.4637962e-03, -1.1273312e-03, -2.2656880e-03,  8.4032239e-03,\n",
       "        4.0924768e-03,  4.8706252e-03,  2.8424426e-03, -6.8389508e-03,\n",
       "        3.8634227e-03,  1.4506009e-03, -8.0600120e-03, -2.1244336e-03,\n",
       "        2.4679073e-03, -6.6337101e-03,  7.4877930e-03, -7.0453356e-03,\n",
       "       -2.4868091e-04,  2.7331666e-03, -8.0233151e-03,  1.3108512e-03,\n",
       "       -6.2495854e-04,  2.5588688e-03, -9.8046307e-03,  7.9186149e-03,\n",
       "        8.3887996e-03,  5.2268766e-03,  1.9576543e-03,  7.7920817e-03,\n",
       "       -3.6162415e-03, -2.3655458e-03, -8.6493213e-03,  5.3178351e-03,\n",
       "       -3.4747524e-03,  8.7639270e-03,  4.6326541e-03, -4.0535731e-03,\n",
       "       -4.5221541e-03, -9.6091609e-03, -1.6597696e-03, -7.6560089e-03,\n",
       "       -2.4736943e-03, -7.3408457e-03,  5.7857954e-03, -2.1468839e-03],\n",
       "      dtype=float32)"
      ]
     },
     "execution_count": 107,
     "metadata": {},
     "output_type": "execute_result"
    }
   ],
   "source": [
    "model.wv['infection']"
   ]
  },
  {
   "cell_type": "code",
   "execution_count": 124,
   "id": "e1ef7230",
   "metadata": {},
   "outputs": [
    {
     "data": {
      "text/plain": [
       "[('shut', 0.2902442216873169),\n",
       " ('fast-spreading', 0.24175922572612762),\n",
       " ('months', 0.22860808670520782),\n",
       " ('banned', 0.2244528979063034),\n",
       " ('region', 0.21965450048446655)]"
      ]
     },
     "execution_count": 124,
     "metadata": {},
     "output_type": "execute_result"
    }
   ],
   "source": [
    "# MOST SIMILAR WORD \n",
    "model.wv.most_similar('covid',topn=5)"
   ]
  },
  {
   "cell_type": "code",
   "execution_count": null,
   "id": "2e967641",
   "metadata": {},
   "outputs": [],
   "source": []
  },
  {
   "cell_type": "code",
   "execution_count": null,
   "id": "b6eae443",
   "metadata": {},
   "outputs": [],
   "source": []
  },
  {
   "cell_type": "code",
   "execution_count": null,
   "id": "0d148a1e",
   "metadata": {},
   "outputs": [],
   "source": []
  },
  {
   "cell_type": "markdown",
   "id": "c3036875",
   "metadata": {},
   "source": [
    "rock_idx = model.wv.vocab[\"rock\"].index  # 🚫\n",
    "rock_cnt = model.wv.vocab[\"rock\"].count  # 🚫\n",
    "vocab_len = len(model.wv.vocab)  # 🚫\n",
    "\n",
    "rock_idx = model.wv.key_to_index[\"rock\"]   # 👍\n",
    "rock_cnt = model.wv.get_vecattr(\"rock\", \"count\")  # 👍\n",
    "vocab_len = len(model.wv)  # 👍\n",
    "\n",
    "w2v_model.most_similar(word)  # 🚫\n",
    "w2v_model.most_similar_cosmul(word)  # 🚫\n",
    "w2v_model.wmdistance(wordlistA, wordlistB)  # 🚫\n",
    "w2v_model.similar_by_word(word)  # 🚫\n",
    "w2v_model.similar_by_vector(word)  # 🚫\n",
    "w2v_model.doesnt_match(wordlist)  # 🚫\n",
    "w2v_model.similarity(wordA, wordB)  # 🚫\n",
    "w2v_model.n_similarity(wordlistA, wordlistB)  # 🚫\n",
    "w2v_model.evaluate_word_pairs(wordpairs)  # 🚫\n",
    "w2v_model.accuracy(questions)  # 🚫\n",
    "w2v_model.log_accuracy(section)  # 🚫\n",
    "\n",
    "w2v_model.wv.most_similar(word)  # 👍\n",
    "w2v_model.wv.most_similar_cosmul(word)  # 👍\n",
    "w2v_model.wv.wmdistance(wordlistA, wordlistB)  # 👍\n",
    "w2v_model.wv.similar_by_word(word)  # 👍\n",
    "w2v_model.wv.similar_by_vector(word)  # 👍\n",
    "w2v_model.wv.doesnt_match(wordlist)  # 👍\n",
    "w2v_model.wv.similarity(wordA, wordB)  # 👍\n",
    "w2v_model.wv.n_similarity(wordlistA, wordlistB)  # 👍\n",
    "w2v_model.wv.evaluate_word_pairs(wordpairs)  # 👍\n",
    "w2v_model.wv.evaluate_word_analogies(questions)  # 👍\n",
    "w2v_model.wv.log_accuracy(section)  # 👍"
   ]
  }
 ],
 "metadata": {
  "kernelspec": {
   "display_name": "Python 3 (ipykernel)",
   "language": "python",
   "name": "python3"
  },
  "language_info": {
   "codemirror_mode": {
    "name": "ipython",
    "version": 3
   },
   "file_extension": ".py",
   "mimetype": "text/x-python",
   "name": "python",
   "nbconvert_exporter": "python",
   "pygments_lexer": "ipython3",
   "version": "3.9.12"
  }
 },
 "nbformat": 4,
 "nbformat_minor": 5
}
