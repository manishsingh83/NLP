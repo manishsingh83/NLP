{
 "cells": [
  {
   "cell_type": "markdown",
   "id": "64ec0245",
   "metadata": {},
   "source": [
    "\n",
    "# AUDIO TO TEXT"
   ]
  },
  {
   "cell_type": "code",
   "execution_count": 4,
   "id": "820a71a9",
   "metadata": {},
   "outputs": [],
   "source": [
    "# IMPORT THE LIBRARY\n",
    "import speech_recognition as sr\n",
    "from textblob import TextBlob"
   ]
  },
  {
   "cell_type": "code",
   "execution_count": 3,
   "id": "96b35e79",
   "metadata": {},
   "outputs": [],
   "source": [
    "we need to conduct a doubt clearing session this Saturday in order to clear your doubt we\n",
    "have become the doubt clearing session on Saturday"
   ]
  },
  {
   "cell_type": "code",
   "execution_count": 8,
   "id": "9cb16a9d",
   "metadata": {
    "scrolled": true
   },
   "outputs": [
    {
     "name": "stdout",
     "output_type": "stream",
     "text": [
      "result2:\n",
      "{   'alternative': [   {   'confidence': 0.87867486,\n",
      "                           'transcript': 'we need to conduct a doubt clearing '\n",
      "                                         'session this Saturday in order to '\n",
      "                                         'clear your doubt we have the phone '\n",
      "                                         'the dark clearing session and '\n",
      "                                         'Saturday'},\n",
      "                       {   'transcript': 'we need to conduct a doubt clearing '\n",
      "                                         'session the Saturday in order to '\n",
      "                                         'clear your doubt we have the phone '\n",
      "                                         'the dark clearing session and '\n",
      "                                         'Saturday'},\n",
      "                       {   'transcript': 'we need to conduct a doubt clearing '\n",
      "                                         'session this Saturday in order to '\n",
      "                                         'clear your doubt we have the phone '\n",
      "                                         'data clearing session and Saturday'}],\n",
      "    'final': True}\n",
      "converting audio transcipts into text \n",
      "\n",
      "your audio text is= \n",
      " we need to conduct a doubt clearing session this Saturday in order to clear your doubt we have the phone the dark clearing session and Saturday\n",
      "हमें इस शनिवार को एक संदेह समाशोधन सत्र आयोजित करने की आवश्यकता है ताकि आपके संदेह को दूर करने के लिए हमारे पास फोन द डार्क क्लियरिंग सत्र और शनिवार है\n"
     ]
    }
   ],
   "source": [
    "\n",
    "# AUDIO TO TEXT AND AGAIN TEXT CONVERT INTO ANOTHER LANGUAGE\n",
    "r= sr.Recognizer()\n",
    "\n",
    "# we put in sr.Audiofile() recoding audio for converting into text\n",
    "with sr.AudioFile('Recording.wav') as source:\n",
    "    audio_text= r.listen(source, timeout=2 )\n",
    "    \n",
    "    try:\n",
    "        text= r.recognize_google(audio_text)\n",
    "        print('converting audio transcipts into text \\n')\n",
    "        print('your audio text is= \\n',text)\n",
    "        \n",
    "        # USING TextBlob to convert englig to hindi langauge\n",
    "        blob= TextBlob(text) \n",
    "        your_lang= blob.translate(from_lang='en' ,to='hi')\n",
    "        print(your_lang)\n",
    "        \n",
    "    except:\n",
    "        print('sorry.. try again')"
   ]
  },
  {
   "cell_type": "code",
   "execution_count": null,
   "id": "03b5c122",
   "metadata": {},
   "outputs": [],
   "source": []
  },
  {
   "cell_type": "markdown",
   "id": "756a30e2",
   "metadata": {},
   "source": [
    "\n",
    "# SPEECH TO TEXT PRACTICAL"
   ]
  },
  {
   "cell_type": "code",
   "execution_count": 6,
   "id": "383ae35b",
   "metadata": {},
   "outputs": [],
   "source": [
    "import pyaudio\n",
    "import speech_recognition as sr"
   ]
  },
  {
   "cell_type": "code",
   "execution_count": 10,
   "id": "3b250847",
   "metadata": {},
   "outputs": [
    {
     "name": "stdout",
     "output_type": "stream",
     "text": [
      "start Talking\n",
      "Here is your converted text below..\n",
      "result2:\n",
      "{   'alternative': [   {   'confidence': 0.86766219,\n",
      "                           'transcript': 'we plan step by step road map to '\n",
      "                                         'build strong Foundation scheme'},\n",
      "                       {   'transcript': 'we planned step by step road map to '\n",
      "                                         'build strong Foundation scheme'},\n",
      "                       {   'transcript': 'wheat plant step by step road map to '\n",
      "                                         'build strong Foundation scheme'},\n",
      "                       {   'transcript': 'whe plant step by step road map to '\n",
      "                                         'build strong Foundation scheme'}],\n",
      "    'final': True}\n",
      "we plan step by step road map to build strong Foundation scheme\n"
     ]
    }
   ],
   "source": [
    "# Reading Microphone as source\n",
    "# Listening the speech and store in audio_text variable\n",
    "\n",
    "r= sr.Recognizer()\n",
    "with sr.Microphone() as source:\n",
    "    print('start Talking')\n",
    "    audio_text= r.listen(source )\n",
    "    print('Here is your converted text below..')\n",
    "    \n",
    "    try:\n",
    "        # using google speech recognition\n",
    "        speech_2_text= r.recognize_google(audio_text)\n",
    "        print(speech_2_text)\n",
    "    except:\n",
    "        print('sorry, I did not get this')\n",
    "        "
   ]
  },
  {
   "cell_type": "markdown",
   "id": "3d44b63e",
   "metadata": {},
   "source": [
    "\n",
    "How to write in the document\n",
    "\n",
    " let's work on the file operation to create and write data in the document"
   ]
  },
  {
   "cell_type": "code",
   "execution_count": 7,
   "id": "76527a41",
   "metadata": {},
   "outputs": [],
   "source": [
    "f= open('story.doc', \"w\")    # create new document file and open in write mode\n",
    "\n",
    "# write the recorded content into the file\n",
    "f.write(speech_2_text)\n",
    "\n",
    "# close the file\n",
    "f.close()"
   ]
  },
  {
   "cell_type": "code",
   "execution_count": null,
   "id": "cba91051",
   "metadata": {},
   "outputs": [],
   "source": []
  },
  {
   "cell_type": "markdown",
   "id": "24caeb90",
   "metadata": {},
   "source": [
    "\n",
    "\n",
    "# LANGUAGE TRANSLATER USING Textblob"
   ]
  },
  {
   "cell_type": "code",
   "execution_count": 17,
   "id": "13dc6ae0",
   "metadata": {},
   "outputs": [],
   "source": [
    "## Textblob can be translated between languages.\n",
    "from textblob import TextBlob"
   ]
  },
  {
   "cell_type": "code",
   "execution_count": 11,
   "id": "9488ff08",
   "metadata": {
    "scrolled": true
   },
   "outputs": [
    {
     "name": "stdout",
     "output_type": "stream",
     "text": [
      "आप सभी को शुभकामनाएं\n",
      "உங்கள் அனைவருக்கும் வாழ்த்துக்கள்\n"
     ]
    }
   ],
   "source": [
    "blob= TextBlob(u'Good wishes to you all')\n",
    "translate= blob.translate(from_lang='en', to='hi')\n",
    "print(translate)\n",
    "blob= TextBlob('Good wishes to you all')\n",
    "translate= blob.translate(from_lang='en', to='ta')\n",
    "print(translate)"
   ]
  },
  {
   "cell_type": "code",
   "execution_count": 9,
   "id": "0c1e17bf",
   "metadata": {},
   "outputs": [
    {
     "name": "stdout",
     "output_type": "stream",
     "text": [
      "有总比没有好\n"
     ]
    }
   ],
   "source": [
    "#\n",
    "bl= TextBlob(\"something is better than nothing\")\n",
    "lang= bl.translate(from_lang='en', to='zh-CN')\n",
    "print(lang)"
   ]
  },
  {
   "cell_type": "code",
   "execution_count": 19,
   "id": "052fa32b",
   "metadata": {},
   "outputs": [
    {
     "data": {
      "text/plain": [
       "TextBlob(\"आप सभी को बधाई\")"
      ]
     },
     "execution_count": 19,
     "metadata": {},
     "output_type": "execute_result"
    }
   ],
   "source": [
    "blob= TextBlob(\"உங்கள் அனைவருக்கும் வாழ்த்துக்கள்\")\n",
    "blob.translate(from_lang='ta', to='hi')\n"
   ]
  },
  {
   "cell_type": "code",
   "execution_count": null,
   "id": "5dcda48b",
   "metadata": {},
   "outputs": [],
   "source": []
  },
  {
   "cell_type": "code",
   "execution_count": null,
   "id": "b6012add",
   "metadata": {},
   "outputs": [],
   "source": []
  },
  {
   "cell_type": "code",
   "execution_count": null,
   "id": "3d025b69",
   "metadata": {},
   "outputs": [],
   "source": []
  }
 ],
 "metadata": {
  "kernelspec": {
   "display_name": "Python 3 (ipykernel)",
   "language": "python",
   "name": "python3"
  },
  "language_info": {
   "codemirror_mode": {
    "name": "ipython",
    "version": 3
   },
   "file_extension": ".py",
   "mimetype": "text/x-python",
   "name": "python",
   "nbconvert_exporter": "python",
   "pygments_lexer": "ipython3",
   "version": "3.9.12"
  }
 },
 "nbformat": 4,
 "nbformat_minor": 5
}
